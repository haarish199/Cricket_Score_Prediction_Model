{
 "cells": [
  {
   "cell_type": "markdown",
   "metadata": {},
   "source": [
    "## IPL 2021 Analysis Between CSK and RCB.\n",
    "- Batting:\n",
    "    - What is impact of Moeen Ali & Maxwell in CSK & RCB respectively ?\n",
    "- Bowling:\n",
    "    - Who is better bowler in RCB ? Mohammed Siraj or Harshal Patel ?\n",
    "- AllRounder:\n",
    "    - Who is the best allrounder for CSK ?\n",
    "- Toss Analysis:\n",
    "    - Is toss winner, the match winner ?\n",
    "- Venue Analysis:\n",
    "    - MA Chidambaram vs Wankedhe Stadium analysis."
   ]
  },
  {
   "cell_type": "code",
   "execution_count": 1,
   "metadata": {},
   "outputs": [],
   "source": [
    "# Import the required libraries \n",
    "\n",
    "import numpy as np\n",
    "import pandas as pd\n",
    "import seaborn as sns\n",
    "import matplotlib.pyplot as plt\n",
    "import math\n",
    "import warnings\n",
    "warnings.filterwarnings('ignore')\n",
    "\n",
    "from sklearn.preprocessing import MinMaxScaler\n",
    "from scipy.stats import zscore\n",
    "\n",
    "pd.set_option('display.max_columns', None)\n",
    "pd.set_option('display.max_rows', None)\n",
    "pd.set_option('display.expand_frame_repr', False)\n",
    "pd.set_option('max_colwidth', -1)"
   ]
  },
  {
   "cell_type": "code",
   "execution_count": 2,
   "metadata": {},
   "outputs": [],
   "source": [
    "# Import the dataset\n",
    "\n",
    "deliveries = pd.read_csv('all_matches.csv')"
   ]
  },
  {
   "cell_type": "code",
   "execution_count": 3,
   "metadata": {},
   "outputs": [],
   "source": [
    "# Make a copy of the original dataset\n",
    "\n",
    "ddf = deliveries.copy()"
   ]
  },
  {
   "cell_type": "code",
   "execution_count": 4,
   "metadata": {},
   "outputs": [
    {
     "data": {
      "text/html": [
       "<div>\n",
       "<style scoped>\n",
       "    .dataframe tbody tr th:only-of-type {\n",
       "        vertical-align: middle;\n",
       "    }\n",
       "\n",
       "    .dataframe tbody tr th {\n",
       "        vertical-align: top;\n",
       "    }\n",
       "\n",
       "    .dataframe thead th {\n",
       "        text-align: right;\n",
       "    }\n",
       "</style>\n",
       "<table border=\"1\" class=\"dataframe\">\n",
       "  <thead>\n",
       "    <tr style=\"text-align: right;\">\n",
       "      <th></th>\n",
       "      <th>match_id</th>\n",
       "      <th>season</th>\n",
       "      <th>start_date</th>\n",
       "      <th>venue</th>\n",
       "      <th>innings</th>\n",
       "      <th>ball</th>\n",
       "      <th>batting_team</th>\n",
       "      <th>bowling_team</th>\n",
       "      <th>striker</th>\n",
       "      <th>non_striker</th>\n",
       "      <th>bowler</th>\n",
       "      <th>runs_off_bat</th>\n",
       "      <th>extras</th>\n",
       "      <th>wides</th>\n",
       "      <th>noballs</th>\n",
       "      <th>byes</th>\n",
       "      <th>legbyes</th>\n",
       "      <th>penalty</th>\n",
       "      <th>wicket_type</th>\n",
       "      <th>player_dismissed</th>\n",
       "      <th>other_wicket_type</th>\n",
       "      <th>other_player_dismissed</th>\n",
       "    </tr>\n",
       "  </thead>\n",
       "  <tbody>\n",
       "    <tr>\n",
       "      <th>200177</th>\n",
       "      <td>1254084</td>\n",
       "      <td>2021</td>\n",
       "      <td>2021-05-01</td>\n",
       "      <td>Arun Jaitley Stadium, Delhi</td>\n",
       "      <td>2</td>\n",
       "      <td>19.6</td>\n",
       "      <td>Mumbai Indians</td>\n",
       "      <td>Chennai Super Kings</td>\n",
       "      <td>KA Pollard</td>\n",
       "      <td>DS Kulkarni</td>\n",
       "      <td>L Ngidi</td>\n",
       "      <td>2</td>\n",
       "      <td>0</td>\n",
       "      <td>NaN</td>\n",
       "      <td>NaN</td>\n",
       "      <td>NaN</td>\n",
       "      <td>NaN</td>\n",
       "      <td>NaN</td>\n",
       "      <td>NaN</td>\n",
       "      <td>NaN</td>\n",
       "      <td>NaN</td>\n",
       "      <td>NaN</td>\n",
       "    </tr>\n",
       "  </tbody>\n",
       "</table>\n",
       "</div>"
      ],
      "text/plain": [
       "        match_id season  start_date                        venue  innings  ball    batting_team         bowling_team     striker  non_striker   bowler  runs_off_bat  extras  wides  noballs  byes  legbyes  penalty wicket_type player_dismissed  other_wicket_type  other_player_dismissed\n",
       "200177  1254084   2021   2021-05-01  Arun Jaitley Stadium, Delhi  2        19.6  Mumbai Indians  Chennai Super Kings  KA Pollard  DS Kulkarni  L Ngidi  2             0      NaN    NaN      NaN   NaN      NaN       NaN         NaN             NaN                NaN                    "
      ]
     },
     "execution_count": 4,
     "metadata": {},
     "output_type": "execute_result"
    }
   ],
   "source": [
    "# Display the dataframes\n",
    "\n",
    "ddf.tail(1)"
   ]
  },
  {
   "cell_type": "code",
   "execution_count": 5,
   "metadata": {},
   "outputs": [],
   "source": [
    "# To get the total runs \n",
    "\n",
    "ddf['total_runs'] = ddf['runs_off_bat'] + ddf['extras']"
   ]
  },
  {
   "cell_type": "code",
   "execution_count": 6,
   "metadata": {},
   "outputs": [
    {
     "data": {
      "text/html": [
       "<div>\n",
       "<style scoped>\n",
       "    .dataframe tbody tr th:only-of-type {\n",
       "        vertical-align: middle;\n",
       "    }\n",
       "\n",
       "    .dataframe tbody tr th {\n",
       "        vertical-align: top;\n",
       "    }\n",
       "\n",
       "    .dataframe thead th {\n",
       "        text-align: right;\n",
       "    }\n",
       "</style>\n",
       "<table border=\"1\" class=\"dataframe\">\n",
       "  <thead>\n",
       "    <tr style=\"text-align: right;\">\n",
       "      <th></th>\n",
       "      <th>match_id</th>\n",
       "      <th>season</th>\n",
       "      <th>start_date</th>\n",
       "      <th>venue</th>\n",
       "      <th>innings</th>\n",
       "      <th>ball</th>\n",
       "      <th>batting_team</th>\n",
       "      <th>bowling_team</th>\n",
       "      <th>striker</th>\n",
       "      <th>non_striker</th>\n",
       "      <th>bowler</th>\n",
       "      <th>runs_off_bat</th>\n",
       "      <th>extras</th>\n",
       "      <th>wides</th>\n",
       "      <th>noballs</th>\n",
       "      <th>byes</th>\n",
       "      <th>legbyes</th>\n",
       "      <th>penalty</th>\n",
       "      <th>wicket_type</th>\n",
       "      <th>player_dismissed</th>\n",
       "      <th>other_wicket_type</th>\n",
       "      <th>other_player_dismissed</th>\n",
       "      <th>total_runs</th>\n",
       "    </tr>\n",
       "  </thead>\n",
       "  <tbody>\n",
       "    <tr>\n",
       "      <th>0</th>\n",
       "      <td>335982</td>\n",
       "      <td>2007/08</td>\n",
       "      <td>2008-04-18</td>\n",
       "      <td>M Chinnaswamy Stadium</td>\n",
       "      <td>1</td>\n",
       "      <td>0.1</td>\n",
       "      <td>Kolkata Knight Riders</td>\n",
       "      <td>Royal Challengers Bangalore</td>\n",
       "      <td>SC Ganguly</td>\n",
       "      <td>BB McCullum</td>\n",
       "      <td>P Kumar</td>\n",
       "      <td>0</td>\n",
       "      <td>1</td>\n",
       "      <td>NaN</td>\n",
       "      <td>NaN</td>\n",
       "      <td>NaN</td>\n",
       "      <td>1.0</td>\n",
       "      <td>NaN</td>\n",
       "      <td>NaN</td>\n",
       "      <td>NaN</td>\n",
       "      <td>NaN</td>\n",
       "      <td>NaN</td>\n",
       "      <td>1</td>\n",
       "    </tr>\n",
       "  </tbody>\n",
       "</table>\n",
       "</div>"
      ],
      "text/plain": [
       "   match_id   season  start_date                  venue  innings  ball           batting_team                 bowling_team     striker  non_striker   bowler  runs_off_bat  extras  wides  noballs  byes  legbyes  penalty wicket_type player_dismissed  other_wicket_type  other_player_dismissed  total_runs\n",
       "0  335982    2007/08  2008-04-18  M Chinnaswamy Stadium  1        0.1   Kolkata Knight Riders  Royal Challengers Bangalore  SC Ganguly  BB McCullum  P Kumar  0             1      NaN    NaN      NaN    1.0     NaN       NaN         NaN             NaN                NaN                      1         "
      ]
     },
     "execution_count": 6,
     "metadata": {},
     "output_type": "execute_result"
    }
   ],
   "source": [
    "ddf.head(1)"
   ]
  },
  {
   "cell_type": "markdown",
   "metadata": {},
   "source": [
    "#### - Defining a function to get the over number from ball column"
   ]
  },
  {
   "cell_type": "code",
   "execution_count": 7,
   "metadata": {},
   "outputs": [],
   "source": [
    "def over_seperator(df):\n",
    "    df['over'] = -1\n",
    "    df['balls'] = 1\n",
    "    for i in range(len(df)):\n",
    "        if(df.iloc[i]['ball'] < 1 ):\n",
    "            df['over'].iloc[i] = 1\n",
    "        elif(df.iloc[i]['ball'] < 2 ):\n",
    "            df['over'].iloc[i] = 2\n",
    "        elif(df.iloc[i]['ball'] < 3 ):\n",
    "            df['over'].iloc[i] = 3\n",
    "        elif(df.iloc[i]['ball'] < 4 ):\n",
    "            df['over'].iloc[i] = 4\n",
    "        elif(df.iloc[i]['ball'] < 5 ):\n",
    "            df['over'].iloc[i] = 5\n",
    "        elif(df.iloc[i]['ball'] < 6 ):\n",
    "            df['over'].iloc[i] = 6\n",
    "        elif(df.iloc[i]['ball'] < 7 ):\n",
    "            df['over'].iloc[i] = 7\n",
    "        elif(df.iloc[i]['ball'] < 8 ):\n",
    "            df['over'].iloc[i] = 8\n",
    "        elif(df.iloc[i]['ball'] < 9 ):\n",
    "            df['over'].iloc[i] = 9\n",
    "        elif(df.iloc[i]['ball'] < 10 ):\n",
    "            df['over'].iloc[i] = 10\n",
    "        elif(df.iloc[i]['ball'] < 11 ):\n",
    "            df['over'].iloc[i] = 11\n",
    "        elif(df.iloc[i]['ball'] < 12 ):\n",
    "            df['over'].iloc[i] = 12\n",
    "        elif(df.iloc[i]['ball'] < 13 ):\n",
    "            df['over'].iloc[i] = 13\n",
    "        elif(df.iloc[i]['ball'] < 14 ):\n",
    "            df['over'].iloc[i] = 14\n",
    "        elif(df.iloc[i]['ball'] < 15 ):\n",
    "            df['over'].iloc[i] = 15\n",
    "        elif(df.iloc[i]['ball'] < 16 ):\n",
    "            df['over'].iloc[i] = 16\n",
    "        elif(df.iloc[i]['ball'] < 17 ):\n",
    "            df['over'].iloc[i] = 17\n",
    "        elif(df.iloc[i]['ball'] < 18 ):\n",
    "            df['over'].iloc[i] = 18\n",
    "        elif(df.iloc[i]['ball'] < 19 ):\n",
    "            df['over'].iloc[i] = 19\n",
    "        elif(df.iloc[i]['ball'] < 20 ):\n",
    "            df['over'].iloc[i] = 20\n",
    "        \n",
    "    return df"
   ]
  },
  {
   "cell_type": "code",
   "execution_count": 8,
   "metadata": {},
   "outputs": [],
   "source": [
    "ddf = over_seperator(ddf)"
   ]
  },
  {
   "cell_type": "code",
   "execution_count": 9,
   "metadata": {},
   "outputs": [],
   "source": [
    "# Filtering the matches by season\n",
    "\n",
    "ddf = ddf[(ddf['season']==2021) | (ddf['season']=='2021')]"
   ]
  },
  {
   "cell_type": "code",
   "execution_count": 10,
   "metadata": {},
   "outputs": [],
   "source": [
    "ddf = ddf.rename(columns={'striker':'batsman','match_id':'id'})"
   ]
  },
  {
   "cell_type": "markdown",
   "metadata": {},
   "source": [
    "### Define functions before analysing "
   ]
  },
  {
   "cell_type": "markdown",
   "metadata": {},
   "source": [
    "#### - Function to get Phase of play "
   ]
  },
  {
   "cell_type": "code",
   "execution_count": 11,
   "metadata": {},
   "outputs": [],
   "source": [
    "def Phaseofplay(over):\n",
    "    \n",
    "    if over < 6:\n",
    "        return \"Power Play\"\n",
    "    elif over < 15:\n",
    "        return \" Middle Over\"\n",
    "    else :\n",
    "        return \"Death Over\""
   ]
  },
  {
   "cell_type": "markdown",
   "metadata": {},
   "source": [
    "#### - Function to get Balls per dismissal"
   ]
  },
  {
   "cell_type": "code",
   "execution_count": 12,
   "metadata": {},
   "outputs": [],
   "source": [
    "def balls_per_dismissal(balls,dismissal):\n",
    "    \n",
    "    if dismissal > 0:\n",
    "        return balls/dismissal\n",
    "    else :\n",
    "        return balls/1"
   ]
  },
  {
   "cell_type": "markdown",
   "metadata": {},
   "source": [
    "#### - Function to get Balls per boundaries"
   ]
  },
  {
   "cell_type": "code",
   "execution_count": 13,
   "metadata": {},
   "outputs": [],
   "source": [
    "def balls_per_boundaries(balls,boundaries):\n",
    "    \n",
    "    # boundaries = fours + sixes\n",
    "    if boundaries > 0:\n",
    "        return balls/boundaries\n",
    "    else :\n",
    "        return balls/1"
   ]
  },
  {
   "cell_type": "markdown",
   "metadata": {},
   "source": [
    "#### - Function to get the player stats"
   ]
  },
  {
   "cell_type": "code",
   "execution_count": 14,
   "metadata": {},
   "outputs": [],
   "source": [
    "def PlayerStats(df):\n",
    "    \n",
    "    df[\"isDots\"] = df[\"runs_off_bat\"].apply(lambda x : 1 if x == 0 else 0 )\n",
    "\n",
    "    # column for ones, twos and threes\n",
    "\n",
    "    df[\"isOnes\"] = df[\"runs_off_bat\"].apply(lambda x : 1 if x == 1 else 0 )\n",
    "    df[\"isTwos\"] = df[\"runs_off_bat\"].apply(lambda x : 1 if x == 2 else 0 )\n",
    "    df[\"isThrees\"] = df[\"runs_off_bat\"].apply(lambda x : 1 if x == 3 else 0 )\n",
    "\n",
    "    # column for boundaries \n",
    "\n",
    "    df[\"isFours\"] = df[\"runs_off_bat\"].apply(lambda x : 1 if x == 4 else 0 )\n",
    "    df[\"isSixes\"] = df[\"runs_off_bat\"].apply(lambda x : 1 if x == 6 else 0 )\n",
    "    \n",
    "    # filtering the player level stats using groupby function\n",
    "    \n",
    "    runs = pd.DataFrame(df.groupby([\"batsman\"])[\"runs_off_bat\"].sum().reset_index().rename(columns={\"runs_off_bat\":\"runs\"}))\n",
    "    balls = pd.DataFrame(df.groupby([\"batsman\"])[\"id\"].count().reset_index().rename(columns={\"id\":\"balls\"}))\n",
    "    innings = pd.DataFrame(df.groupby([\"batsman\"])[\"id\"].apply(lambda x : len(list(np.unique(x)))).reset_index().rename(columns={\"id\":\"innings\"}))\n",
    "    dismissals = pd.DataFrame(df.groupby([\"batsman\"])[\"player_dismissed\"].count().reset_index().rename(columns={\"player_dismissed\":\"dismissals\"}))\n",
    "    dots = pd.DataFrame(df.groupby([\"batsman\"])[\"isDots\"].sum().reset_index().rename(columns={\"isDots\":\"dots\"}))\n",
    "    ones = pd.DataFrame(df.groupby([\"batsman\"])[\"isOnes\"].sum().reset_index().rename(columns={\"isOnes\":\"ones\"}))\n",
    "    twos = pd.DataFrame(df.groupby([\"batsman\"])[\"isTwos\"].sum().reset_index().rename(columns={\"isTwos\":\"twos\"}))\n",
    "    threes = pd.DataFrame(df.groupby([\"batsman\"])[\"isThrees\"].sum().reset_index().rename(columns={\"isThrees\":\"threes\"}))\n",
    "    fours = pd.DataFrame(df.groupby([\"batsman\"])[\"isFours\"].sum().reset_index().rename(columns={\"isFours\":\"fours\"}))\n",
    "    sixes = pd.DataFrame(df.groupby([\"batsman\"])[\"isSixes\"].sum().reset_index().rename(columns={\"isSixes\":\"sixes\"}))\n",
    "\n",
    "    # merging all the data which are filtered using groupby\n",
    "\n",
    "    df = pd.merge(innings,runs, on=\"batsman\").merge(balls,on=\"batsman\").merge(dismissals,on=\"batsman\").merge(dots,on=\"batsman\").merge(ones,on=\"batsman\").merge(twos,on=\"batsman\").merge(threes,on=\"batsman\").merge(fours,on=\"batsman\").merge(sixes,on=\"batsman\")\n",
    "\n",
    "    # filtering the data further to get player stats\n",
    "    # strike rate\n",
    "\n",
    "    df[\"SR\"] = df.apply(lambda x : round(x[\"runs\"]/x[\"balls\"]*100,2), axis=1)\n",
    "    df[\"dot%\"] = df.apply(lambda x : round(100*(x['dots']/x['balls']),2), axis=1)\n",
    "    df[\"RPI\"] = df.apply(lambda x : round(x[\"runs\"]/x[\"innings\"],2), axis=1)\n",
    "    df['BPD'] = df.apply(lambda x : round(balls_per_dismissal(x[\"balls\"], x[\"dismissals\"]),2), axis=1)\n",
    "    df[\"BPB\"] = df.apply(lambda x : round(balls_per_boundaries(x[\"balls\"], (x[\"fours\"]+x[\"sixes\"])),2), axis=1)\n",
    "    \n",
    "    return df"
   ]
  },
  {
   "cell_type": "code",
   "execution_count": 15,
   "metadata": {},
   "outputs": [
    {
     "data": {
      "text/html": [
       "<div>\n",
       "<style scoped>\n",
       "    .dataframe tbody tr th:only-of-type {\n",
       "        vertical-align: middle;\n",
       "    }\n",
       "\n",
       "    .dataframe tbody tr th {\n",
       "        vertical-align: top;\n",
       "    }\n",
       "\n",
       "    .dataframe thead th {\n",
       "        text-align: right;\n",
       "    }\n",
       "</style>\n",
       "<table border=\"1\" class=\"dataframe\">\n",
       "  <thead>\n",
       "    <tr style=\"text-align: right;\">\n",
       "      <th></th>\n",
       "      <th>batsman</th>\n",
       "      <th>innings</th>\n",
       "      <th>runs</th>\n",
       "      <th>balls</th>\n",
       "      <th>dismissals</th>\n",
       "      <th>dots</th>\n",
       "      <th>ones</th>\n",
       "      <th>twos</th>\n",
       "      <th>threes</th>\n",
       "      <th>fours</th>\n",
       "      <th>sixes</th>\n",
       "      <th>SR</th>\n",
       "      <th>dot%</th>\n",
       "      <th>RPI</th>\n",
       "      <th>BPD</th>\n",
       "      <th>BPB</th>\n",
       "    </tr>\n",
       "  </thead>\n",
       "  <tbody>\n",
       "    <tr>\n",
       "      <th>0</th>\n",
       "      <td>AB de Villiers</td>\n",
       "      <td>6</td>\n",
       "      <td>207</td>\n",
       "      <td>129</td>\n",
       "      <td>5</td>\n",
       "      <td>36</td>\n",
       "      <td>52</td>\n",
       "      <td>14</td>\n",
       "      <td>1</td>\n",
       "      <td>16</td>\n",
       "      <td>10</td>\n",
       "      <td>160.47</td>\n",
       "      <td>27.91</td>\n",
       "      <td>34.50</td>\n",
       "      <td>25.80</td>\n",
       "      <td>4.96</td>\n",
       "    </tr>\n",
       "    <tr>\n",
       "      <th>1</th>\n",
       "      <td>AD Russell</td>\n",
       "      <td>7</td>\n",
       "      <td>163</td>\n",
       "      <td>112</td>\n",
       "      <td>5</td>\n",
       "      <td>52</td>\n",
       "      <td>33</td>\n",
       "      <td>2</td>\n",
       "      <td>0</td>\n",
       "      <td>12</td>\n",
       "      <td>13</td>\n",
       "      <td>145.54</td>\n",
       "      <td>46.43</td>\n",
       "      <td>23.29</td>\n",
       "      <td>22.40</td>\n",
       "      <td>4.48</td>\n",
       "    </tr>\n",
       "    <tr>\n",
       "      <th>2</th>\n",
       "      <td>AM Rahane</td>\n",
       "      <td>1</td>\n",
       "      <td>8</td>\n",
       "      <td>9</td>\n",
       "      <td>1</td>\n",
       "      <td>5</td>\n",
       "      <td>2</td>\n",
       "      <td>1</td>\n",
       "      <td>0</td>\n",
       "      <td>1</td>\n",
       "      <td>0</td>\n",
       "      <td>88.89</td>\n",
       "      <td>55.56</td>\n",
       "      <td>8.00</td>\n",
       "      <td>9.00</td>\n",
       "      <td>9.00</td>\n",
       "    </tr>\n",
       "    <tr>\n",
       "      <th>3</th>\n",
       "      <td>AT Rayudu</td>\n",
       "      <td>5</td>\n",
       "      <td>136</td>\n",
       "      <td>71</td>\n",
       "      <td>4</td>\n",
       "      <td>21</td>\n",
       "      <td>28</td>\n",
       "      <td>3</td>\n",
       "      <td>0</td>\n",
       "      <td>6</td>\n",
       "      <td>13</td>\n",
       "      <td>191.55</td>\n",
       "      <td>29.58</td>\n",
       "      <td>27.20</td>\n",
       "      <td>17.75</td>\n",
       "      <td>3.74</td>\n",
       "    </tr>\n",
       "    <tr>\n",
       "      <th>4</th>\n",
       "      <td>Abdul Samad</td>\n",
       "      <td>3</td>\n",
       "      <td>26</td>\n",
       "      <td>18</td>\n",
       "      <td>2</td>\n",
       "      <td>7</td>\n",
       "      <td>6</td>\n",
       "      <td>2</td>\n",
       "      <td>0</td>\n",
       "      <td>1</td>\n",
       "      <td>2</td>\n",
       "      <td>144.44</td>\n",
       "      <td>38.89</td>\n",
       "      <td>8.67</td>\n",
       "      <td>9.00</td>\n",
       "      <td>6.00</td>\n",
       "    </tr>\n",
       "  </tbody>\n",
       "</table>\n",
       "</div>"
      ],
      "text/plain": [
       "          batsman  innings  runs  balls  dismissals  dots  ones  twos  threes  fours  sixes      SR   dot%    RPI    BPD   BPB\n",
       "0  AB de Villiers  6        207   129    5           36    52    14    1       16     10     160.47  27.91  34.50  25.80  4.96\n",
       "1  AD Russell      7        163   112    5           52    33    2     0       12     13     145.54  46.43  23.29  22.40  4.48\n",
       "2  AM Rahane       1        8     9      1           5     2     1     0       1      0      88.89   55.56  8.00   9.00   9.00\n",
       "3  AT Rayudu       5        136   71     4           21    28    3     0       6      13     191.55  29.58  27.20  17.75  3.74\n",
       "4  Abdul Samad     3        26    18     2           7     6     2     0       1      2      144.44  38.89  8.67   9.00   6.00"
      ]
     },
     "execution_count": 15,
     "metadata": {},
     "output_type": "execute_result"
    }
   ],
   "source": [
    "df1 = PlayerStats(ddf)\n",
    "\n",
    "df1.head()"
   ]
  },
  {
   "cell_type": "markdown",
   "metadata": {},
   "source": [
    "## Batting :\n",
    "- What is impact of Moeen Ali & Maxwell in CSK & RCB respectively ?"
   ]
  },
  {
   "cell_type": "code",
   "execution_count": 16,
   "metadata": {},
   "outputs": [],
   "source": [
    "# Selected_player = MM Ali ,GJ Maxwell\n",
    "\n",
    "mali_runs = df1[df1['batsman'] == 'MM Ali']\n",
    "max_runs = df1[df1['batsman'] == 'GJ Maxwell']"
   ]
  },
  {
   "cell_type": "code",
   "execution_count": 17,
   "metadata": {},
   "outputs": [
    {
     "data": {
      "text/html": [
       "<div>\n",
       "<style scoped>\n",
       "    .dataframe tbody tr th:only-of-type {\n",
       "        vertical-align: middle;\n",
       "    }\n",
       "\n",
       "    .dataframe tbody tr th {\n",
       "        vertical-align: top;\n",
       "    }\n",
       "\n",
       "    .dataframe thead th {\n",
       "        text-align: right;\n",
       "    }\n",
       "</style>\n",
       "<table border=\"1\" class=\"dataframe\">\n",
       "  <thead>\n",
       "    <tr style=\"text-align: right;\">\n",
       "      <th></th>\n",
       "      <th>batsman</th>\n",
       "      <th>innings</th>\n",
       "      <th>runs</th>\n",
       "      <th>balls</th>\n",
       "      <th>dismissals</th>\n",
       "      <th>dots</th>\n",
       "      <th>ones</th>\n",
       "      <th>twos</th>\n",
       "      <th>threes</th>\n",
       "      <th>fours</th>\n",
       "      <th>sixes</th>\n",
       "      <th>SR</th>\n",
       "      <th>dot%</th>\n",
       "      <th>RPI</th>\n",
       "      <th>BPD</th>\n",
       "      <th>BPB</th>\n",
       "    </tr>\n",
       "  </thead>\n",
       "  <tbody>\n",
       "    <tr>\n",
       "      <th>60</th>\n",
       "      <td>MM Ali</td>\n",
       "      <td>6</td>\n",
       "      <td>206</td>\n",
       "      <td>136</td>\n",
       "      <td>6</td>\n",
       "      <td>63</td>\n",
       "      <td>32</td>\n",
       "      <td>7</td>\n",
       "      <td>0</td>\n",
       "      <td>22</td>\n",
       "      <td>12</td>\n",
       "      <td>151.47</td>\n",
       "      <td>46.32</td>\n",
       "      <td>34.33</td>\n",
       "      <td>22.67</td>\n",
       "      <td>4.00</td>\n",
       "    </tr>\n",
       "    <tr>\n",
       "      <th>26</th>\n",
       "      <td>GJ Maxwell</td>\n",
       "      <td>6</td>\n",
       "      <td>223</td>\n",
       "      <td>162</td>\n",
       "      <td>6</td>\n",
       "      <td>62</td>\n",
       "      <td>59</td>\n",
       "      <td>10</td>\n",
       "      <td>0</td>\n",
       "      <td>21</td>\n",
       "      <td>10</td>\n",
       "      <td>137.65</td>\n",
       "      <td>38.27</td>\n",
       "      <td>37.17</td>\n",
       "      <td>27.00</td>\n",
       "      <td>5.23</td>\n",
       "    </tr>\n",
       "  </tbody>\n",
       "</table>\n",
       "</div>"
      ],
      "text/plain": [
       "       batsman  innings  runs  balls  dismissals  dots  ones  twos  threes  fours  sixes      SR   dot%    RPI    BPD   BPB\n",
       "60  MM Ali      6        206   136    6           63    32    7     0       22     12     151.47  46.32  34.33  22.67  4.00\n",
       "26  GJ Maxwell  6        223   162    6           62    59    10    0       21     10     137.65  38.27  37.17  27.00  5.23"
      ]
     },
     "execution_count": 17,
     "metadata": {},
     "output_type": "execute_result"
    }
   ],
   "source": [
    "best_bat_fig = mali_runs.append(max_runs)\n",
    "best_bat_fig"
   ]
  },
  {
   "cell_type": "markdown",
   "metadata": {},
   "source": [
    "### Comparing the batting stats of Moeen Ali and Maxwell "
   ]
  },
  {
   "cell_type": "code",
   "execution_count": 18,
   "metadata": {},
   "outputs": [
    {
     "data": {
      "image/png": "[encoded data removed]",
      "text/plain": [
       "<Figure size 1080x576 with 4 Axes>"
      ]
     },
     "metadata": {
      "needs_background": "light"
     },
     "output_type": "display_data"
    }
   ],
   "source": [
    "# Comparing the batting figure by both player \n",
    "\n",
    "plt.figure(figsize=(15,8))\n",
    "\n",
    "plt.subplot(2,2,1)\n",
    "plt.barh(best_bat_fig[\"batsman\"],best_bat_fig[\"runs\"])\n",
    "plt.title(\"Impact of Moeen Ali and Maxwell in CSK & RCB\")\n",
    "plt.xlabel(\"Total Runs Scored in 1st 5 matches\")\n",
    "\n",
    "plt.subplot(2,2,2)\n",
    "plt.barh(best_bat_fig[\"batsman\"],best_bat_fig[\"SR\"],color = 'c')\n",
    "plt.title(\"Impact of Moeen Ali and Maxwell in CSK & RCB\")\n",
    "plt.xlabel(\"Strike Rate of both the batsman in 1st 5 matches\")\n",
    "\n",
    "plt.subplot(2,2,3)\n",
    "plt.barh(best_bat_fig[\"batsman\"],best_bat_fig[\"BPB\"],color = 'y')\n",
    "plt.xlabel(\"Balls per Boundaries in 1st 5 matches\")\n",
    "\n",
    "plt.subplot(2,2,4)\n",
    "plt.barh(best_bat_fig[\"batsman\"],best_bat_fig[\"BPD\"], color = 'darkorange')\n",
    "plt.xlabel(\"Balls per Dismissals in 1st 5 matches\")\n",
    "\n",
    "plt.show()"
   ]
  },
  {
   "cell_type": "markdown",
   "metadata": {},
   "source": [
    "### Inference : From the above analysis Maxwell stands out in the total runs and balls per dismissals. However Moeen Ali has higher strike rate and he takes less balls per boundaries. So from this we can conclude that both of the players have equal impact on their teams."
   ]
  },
  {
   "cell_type": "code",
   "execution_count": 19,
   "metadata": {},
   "outputs": [],
   "source": [
    "best_bat_fig.to_csv('Mali_Max_Batting.csv')"
   ]
  },
  {
   "cell_type": "markdown",
   "metadata": {},
   "source": [
    "##  Bowling :\n",
    "- Who is better bowler in RCB ? Mohammed Siraj or Harshal Patel ?"
   ]
  },
  {
   "cell_type": "markdown",
   "metadata": {},
   "source": [
    "#### - Defining functions to get bowler stats"
   ]
  },
  {
   "cell_type": "code",
   "execution_count": 20,
   "metadata": {},
   "outputs": [],
   "source": [
    "def isWicket(player_dismissed, dismissal_kind):\n",
    "    \n",
    "    if type(player_dismissed) == str:\n",
    "        if dismissal_kind not in [ 'run out', 'retired hurt', 'obstructing the field']:\n",
    "            return 1\n",
    "        else:\n",
    "            return 0\n",
    "    else:\n",
    "        return 0"
   ]
  },
  {
   "cell_type": "code",
   "execution_count": 21,
   "metadata": {},
   "outputs": [],
   "source": [
    "ddf['isbowlerwicket'] = ddf.apply(lambda x : isWicket(x[\"player_dismissed\"],x['wicket_type']),axis =1)"
   ]
  },
  {
   "cell_type": "code",
   "execution_count": 22,
   "metadata": {},
   "outputs": [],
   "source": [
    "def runs_per_ball(runs_conceeded, balls):\n",
    "    if balls > 0:\n",
    "        return runs_conceeded/balls\n",
    "    else:\n",
    "        return 1000\n",
    "    \n",
    "def runs_per_dismissal(runs_conceeded, dismissals):\n",
    "    if dismissals > 0:\n",
    "        return runs_conceeded/dismissals\n",
    "    elif (runs_conceeded == 0):\n",
    "        return 1000\n",
    "    else:\n",
    "        return runs_conceeded/1"
   ]
  },
  {
   "cell_type": "code",
   "execution_count": 23,
   "metadata": {},
   "outputs": [],
   "source": [
    "def BowlingStats(df):\n",
    "    \n",
    "    df[\"isDots\"] = df[\"total_runs\"].apply(lambda x : 1 if x == 0 else 0 )\n",
    "\n",
    "    # column for ones, twos and threes\n",
    "\n",
    "    df[\"isOnes\"] = df[\"total_runs\"].apply(lambda x : 1 if x == 1 else 0 )\n",
    "    df[\"isTwos\"] = df[\"total_runs\"].apply(lambda x : 1 if x == 2 else 0 )\n",
    "    df[\"isThrees\"] = df[\"total_runs\"].apply(lambda x : 1 if x == 3 else 0 )\n",
    "\n",
    "    # column for boundaries \n",
    "\n",
    "    df[\"isFours\"] = df[\"runs_off_bat\"].apply(lambda x : 1 if x == 4 else 0 )\n",
    "    df[\"isSixes\"] = df[\"runs_off_bat\"].apply(lambda x : 1 if x == 6 else 0 )\n",
    "    \n",
    "    # filtering the player level stats using groupby function\n",
    "    \n",
    "    runs = pd.DataFrame(df.groupby([\"bowler\"])[\"total_runs\"].sum().reset_index().rename(columns={\"total_runs\":\"runs\"}))\n",
    "    balls = pd.DataFrame(df.groupby([\"bowler\"])[\"id\"].count().reset_index().rename(columns={\"id\":\"balls\"}))\n",
    "    innings = pd.DataFrame(df.groupby([\"bowler\"])[\"id\"].apply(lambda x : len(list(np.unique(x)))).reset_index().rename(columns={\"id\":\"innings\"}))\n",
    "    dismissals = pd.DataFrame(df.groupby([\"bowler\"])[\"isbowlerwicket\"].sum().reset_index().rename(columns={\"isbowlerwicket\":\"dismissals\"}))\n",
    "    dots = pd.DataFrame(df.groupby([\"bowler\"])[\"isDots\"].sum().reset_index().rename(columns={\"isDots\":\"dots\"}))\n",
    "    ones = pd.DataFrame(df.groupby([\"bowler\"])[\"isOnes\"].sum().reset_index().rename(columns={\"isOnes\":\"ones\"}))\n",
    "    twos = pd.DataFrame(df.groupby([\"bowler\"])[\"isTwos\"].sum().reset_index().rename(columns={\"isTwos\":\"twos\"}))\n",
    "    threes = pd.DataFrame(df.groupby([\"bowler\"])[\"isThrees\"].sum().reset_index().rename(columns={\"isThrees\":\"threes\"}))\n",
    "    fours = pd.DataFrame(df.groupby([\"bowler\"])[\"isFours\"].sum().reset_index().rename(columns={\"isFours\":\"fours\"}))\n",
    "    sixes = pd.DataFrame(df.groupby([\"bowler\"])[\"isSixes\"].sum().reset_index().rename(columns={\"isSixes\":\"sixes\"}))\n",
    "\n",
    "    # merging all the data which are filtered using groupby\n",
    "\n",
    "    df = pd.merge(innings,runs, on=\"bowler\").merge(balls,on=\"bowler\").merge(dismissals,on=\"bowler\").merge(dots,on=\"bowler\").merge(ones,on=\"bowler\").merge(twos,on=\"bowler\").merge(threes,on=\"bowler\").merge(fours,on=\"bowler\").merge(sixes,on=\"bowler\")\n",
    "\n",
    "    # filtering the data further to get player stats\n",
    "    # strike rate\n",
    "\n",
    "    df[\"dot%\"] = df.apply(lambda x : round(100*(x['dots']/x['balls']),2), axis=1)\n",
    "    df[\"SR\"] = df.apply(lambda x : round(balls_per_dismissal(x[\"balls\"], x[\"dismissals\"]),2), axis=1)\n",
    "    df[\"Eco\"] = df.apply(lambda x : round(runs_per_ball(x[\"runs\"], x[\"balls\"]),2), axis=1)\n",
    "    df[\"Avg\"] = df.apply(lambda x : round(runs_per_dismissal(x[\"runs\"], (x[\"dismissals\"]+x[\"sixes\"])),2), axis=1)\n",
    "    \n",
    "    return df"
   ]
  },
  {
   "cell_type": "markdown",
   "metadata": {},
   "source": [
    "#### -  Bowling Statistics "
   ]
  },
  {
   "cell_type": "code",
   "execution_count": 24,
   "metadata": {},
   "outputs": [],
   "source": [
    "# Selected player = Mohammed Siraj, HV Patel"
   ]
  },
  {
   "cell_type": "code",
   "execution_count": 25,
   "metadata": {},
   "outputs": [],
   "source": [
    "df2 = BowlingStats(ddf)"
   ]
  },
  {
   "cell_type": "code",
   "execution_count": 26,
   "metadata": {},
   "outputs": [],
   "source": [
    "ms_bowl = df2[df2['bowler'] == 'Mohammed Siraj']\n",
    "hp_bowl = df2[df2['bowler'] == 'HV Patel']"
   ]
  },
  {
   "cell_type": "code",
   "execution_count": 27,
   "metadata": {},
   "outputs": [],
   "source": [
    "best_bowl_fig = ms_bowl.append(hp_bowl)"
   ]
  },
  {
   "cell_type": "code",
   "execution_count": 28,
   "metadata": {},
   "outputs": [
    {
     "data": {
      "text/html": [
       "<div>\n",
       "<style scoped>\n",
       "    .dataframe tbody tr th:only-of-type {\n",
       "        vertical-align: middle;\n",
       "    }\n",
       "\n",
       "    .dataframe tbody tr th {\n",
       "        vertical-align: top;\n",
       "    }\n",
       "\n",
       "    .dataframe thead th {\n",
       "        text-align: right;\n",
       "    }\n",
       "</style>\n",
       "<table border=\"1\" class=\"dataframe\">\n",
       "  <thead>\n",
       "    <tr style=\"text-align: right;\">\n",
       "      <th></th>\n",
       "      <th>bowler</th>\n",
       "      <th>innings</th>\n",
       "      <th>runs</th>\n",
       "      <th>balls</th>\n",
       "      <th>dismissals</th>\n",
       "      <th>dots</th>\n",
       "      <th>ones</th>\n",
       "      <th>twos</th>\n",
       "      <th>threes</th>\n",
       "      <th>fours</th>\n",
       "      <th>sixes</th>\n",
       "      <th>dot%</th>\n",
       "      <th>SR</th>\n",
       "      <th>Eco</th>\n",
       "      <th>Avg</th>\n",
       "    </tr>\n",
       "  </thead>\n",
       "  <tbody>\n",
       "    <tr>\n",
       "      <th>53</th>\n",
       "      <td>Mohammed Siraj</td>\n",
       "      <td>7</td>\n",
       "      <td>200</td>\n",
       "      <td>161</td>\n",
       "      <td>6</td>\n",
       "      <td>71</td>\n",
       "      <td>48</td>\n",
       "      <td>13</td>\n",
       "      <td>0</td>\n",
       "      <td>22</td>\n",
       "      <td>5</td>\n",
       "      <td>44.10</td>\n",
       "      <td>26.83</td>\n",
       "      <td>1.24</td>\n",
       "      <td>18.18</td>\n",
       "    </tr>\n",
       "    <tr>\n",
       "      <th>22</th>\n",
       "      <td>HV Patel</td>\n",
       "      <td>7</td>\n",
       "      <td>257</td>\n",
       "      <td>178</td>\n",
       "      <td>17</td>\n",
       "      <td>56</td>\n",
       "      <td>77</td>\n",
       "      <td>12</td>\n",
       "      <td>0</td>\n",
       "      <td>22</td>\n",
       "      <td>11</td>\n",
       "      <td>31.46</td>\n",
       "      <td>10.47</td>\n",
       "      <td>1.44</td>\n",
       "      <td>9.18</td>\n",
       "    </tr>\n",
       "  </tbody>\n",
       "</table>\n",
       "</div>"
      ],
      "text/plain": [
       "            bowler  innings  runs  balls  dismissals  dots  ones  twos  threes  fours  sixes   dot%     SR   Eco    Avg\n",
       "53  Mohammed Siraj  7        200   161    6           71    48    13    0       22     5      44.10  26.83  1.24  18.18\n",
       "22  HV Patel        7        257   178    17          56    77    12    0       22     11     31.46  10.47  1.44  9.18 "
      ]
     },
     "execution_count": 28,
     "metadata": {},
     "output_type": "execute_result"
    }
   ],
   "source": [
    "best_bowl_fig"
   ]
  },
  {
   "cell_type": "code",
   "execution_count": 29,
   "metadata": {},
   "outputs": [],
   "source": [
    "player_dismissed_ms = pd.DataFrame(ddf[(ddf['bowler'] == 'Mohammed Siraj') & (ddf['isbowlerwicket'] == 1)]['batsman']).reset_index(drop = True)\n",
    "player_dismissed_hp = pd.DataFrame(ddf[(ddf['bowler'] == 'HV Patel') & (ddf['isbowlerwicket'] == 1)]['batsman']).reset_index(drop = True)"
   ]
  },
  {
   "cell_type": "code",
   "execution_count": 30,
   "metadata": {},
   "outputs": [],
   "source": [
    "over_dismissed_ms = pd.DataFrame(ddf[(ddf['bowler'] == 'Mohammed Siraj') & (ddf['isbowlerwicket'] == 1)]['over']).reset_index(drop = True)\n",
    "over_dismissed_hp = pd.DataFrame(ddf[(ddf['bowler'] == 'HV Patel') & (ddf['isbowlerwicket'] == 1)]['over']).reset_index(drop = True)"
   ]
  },
  {
   "cell_type": "code",
   "execution_count": 31,
   "metadata": {},
   "outputs": [
    {
     "data": {
      "text/plain": [
       "array(['WP Saha', 'JO Holder', 'JC Buttler', 'DA Miller', 'R Tewatia',\n",
       "       'SPD Smith'], dtype=object)"
      ]
     },
     "execution_count": 31,
     "metadata": {},
     "output_type": "execute_result"
    }
   ],
   "source": [
    "player_dismissed_ms['batsman'].unique()"
   ]
  },
  {
   "cell_type": "code",
   "execution_count": 32,
   "metadata": {},
   "outputs": [
    {
     "data": {
      "text/plain": [
       "array(['HH Pandya', 'Ishan Kishan', 'KH Pandya', 'KA Pollard', 'M Jansen',\n",
       "       'V Shankar', 'S Nadeem', 'EJG Morgan', 'AD Russell', 'R Parag',\n",
       "       'CH Morris', 'C Sakariya', 'SK Raina', 'F du Plessis', 'AT Rayudu',\n",
       "       'PP Shaw', 'MP Stoinis'], dtype=object)"
      ]
     },
     "execution_count": 32,
     "metadata": {},
     "output_type": "execute_result"
    }
   ],
   "source": [
    "player_dismissed_hp['batsman'].unique()"
   ]
  },
  {
   "cell_type": "code",
   "execution_count": 33,
   "metadata": {},
   "outputs": [
    {
     "data": {
      "image/png": "[encoded data removed]",
      "text/plain": [
       "<Figure size 1080x576 with 4 Axes>"
      ]
     },
     "metadata": {
      "needs_background": "light"
     },
     "output_type": "display_data"
    }
   ],
   "source": [
    "# Comparing the bowling figure by both player \n",
    "\n",
    "plt.figure(figsize=(15,8))\n",
    "\n",
    "plt.subplot(2,2,1)\n",
    "plt.barh(best_bowl_fig[\"bowler\"],best_bowl_fig[\"dismissals\"])\n",
    "plt.title(\"Performance of Mohammed Siraj and HV Patel in RCB\")\n",
    "plt.xlabel(\"Total wickets taken in 1st 5 matches\")\n",
    "\n",
    "plt.subplot(2,2,2)\n",
    "plt.barh(best_bowl_fig[\"bowler\"],best_bowl_fig[\"dot%\"],color = 'c')\n",
    "plt.title(\"Performance of Mohammed Siraj and HV Patel in RCB\")\n",
    "plt.xlabel(\"Dot percentage of both the bowlers in 1st 5 matches\")\n",
    "\n",
    "plt.subplot(2,2,3)\n",
    "plt.barh(best_bowl_fig[\"bowler\"],best_bowl_fig[\"SR\"],color = 'y')\n",
    "plt.xlabel(\"Strike rate of both the bowlers in 1st 5 matches\")\n",
    "\n",
    "plt.subplot(2,2,4)\n",
    "plt.barh(best_bowl_fig[\"bowler\"],best_bowl_fig[\"Eco\"],color = 'darkorange')\n",
    "plt.xlabel(\"Economy of both the bowlers in 1st 5 matches\")\n",
    "\n",
    "plt.show()"
   ]
  },
  {
   "cell_type": "markdown",
   "metadata": {},
   "source": [
    "### Inference : From the above analysis we can clearly say that Harshal Patel's performance has a huge impact in RCB "
   ]
  },
  {
   "cell_type": "code",
   "execution_count": 34,
   "metadata": {},
   "outputs": [],
   "source": [
    "best_bowl_fig.to_csv('Siraj&HPatel.csv')"
   ]
  },
  {
   "cell_type": "markdown",
   "metadata": {},
   "source": [
    "## All Rounder Analysis\n",
    "- Who is the best all rounder for CSK ?"
   ]
  },
  {
   "cell_type": "code",
   "execution_count": 35,
   "metadata": {},
   "outputs": [
    {
     "data": {
      "text/html": [
       "<div>\n",
       "<style scoped>\n",
       "    .dataframe tbody tr th:only-of-type {\n",
       "        vertical-align: middle;\n",
       "    }\n",
       "\n",
       "    .dataframe tbody tr th {\n",
       "        vertical-align: top;\n",
       "    }\n",
       "\n",
       "    .dataframe thead th {\n",
       "        text-align: right;\n",
       "    }\n",
       "</style>\n",
       "<table border=\"1\" class=\"dataframe\">\n",
       "  <thead>\n",
       "    <tr style=\"text-align: right;\">\n",
       "      <th></th>\n",
       "      <th>batsman/bowler</th>\n",
       "      <th>bat_innings</th>\n",
       "      <th>runs_scored</th>\n",
       "      <th>balls_faced</th>\n",
       "      <th>got_dismissed</th>\n",
       "      <th>bat_SR</th>\n",
       "      <th>bat_dot%</th>\n",
       "      <th>RPI</th>\n",
       "      <th>BPD</th>\n",
       "      <th>BPB</th>\n",
       "    </tr>\n",
       "  </thead>\n",
       "  <tbody>\n",
       "    <tr>\n",
       "      <th>0</th>\n",
       "      <td>AB de Villiers</td>\n",
       "      <td>6</td>\n",
       "      <td>207</td>\n",
       "      <td>129</td>\n",
       "      <td>5</td>\n",
       "      <td>160.47</td>\n",
       "      <td>27.91</td>\n",
       "      <td>34.5</td>\n",
       "      <td>25.8</td>\n",
       "      <td>4.96</td>\n",
       "    </tr>\n",
       "  </tbody>\n",
       "</table>\n",
       "</div>"
      ],
      "text/plain": [
       "   batsman/bowler  bat_innings  runs_scored  balls_faced  got_dismissed  bat_SR  bat_dot%   RPI   BPD   BPB\n",
       "0  AB de Villiers  6            207          129          5              160.47  27.91     34.5  25.8  4.96"
      ]
     },
     "execution_count": 35,
     "metadata": {},
     "output_type": "execute_result"
    }
   ],
   "source": [
    "ar_bat_df = PlayerStats(ddf)\n",
    "\n",
    "# renaming the name columns\n",
    "ar_bat_df = ar_bat_df.rename(columns={'batsman':'batsman/bowler','innings':'bat_innings','runs':'runs_scored','dismissals':'got_dismissed','SR':'bat_SR','dot%':'bat_dot%','balls':'balls_faced'})\n",
    "ar_bat_df = ar_bat_df.drop(['dots','ones','twos','threes','fours','sixes'],axis=1)\n",
    "ar_bat_df.head(1)"
   ]
  },
  {
   "cell_type": "code",
   "execution_count": 36,
   "metadata": {},
   "outputs": [
    {
     "data": {
      "text/html": [
       "<div>\n",
       "<style scoped>\n",
       "    .dataframe tbody tr th:only-of-type {\n",
       "        vertical-align: middle;\n",
       "    }\n",
       "\n",
       "    .dataframe tbody tr th {\n",
       "        vertical-align: top;\n",
       "    }\n",
       "\n",
       "    .dataframe thead th {\n",
       "        text-align: right;\n",
       "    }\n",
       "</style>\n",
       "<table border=\"1\" class=\"dataframe\">\n",
       "  <thead>\n",
       "    <tr style=\"text-align: right;\">\n",
       "      <th></th>\n",
       "      <th>batsman/bowler</th>\n",
       "      <th>bowl_innings</th>\n",
       "      <th>runs_conceeded</th>\n",
       "      <th>total_balls</th>\n",
       "      <th>wickets_taken</th>\n",
       "      <th>bowl_dot%</th>\n",
       "      <th>bowl_SR</th>\n",
       "      <th>Eco</th>\n",
       "      <th>Avg</th>\n",
       "    </tr>\n",
       "  </thead>\n",
       "  <tbody>\n",
       "    <tr>\n",
       "      <th>0</th>\n",
       "      <td>A Mishra</td>\n",
       "      <td>4</td>\n",
       "      <td>109</td>\n",
       "      <td>84</td>\n",
       "      <td>6</td>\n",
       "      <td>29.76</td>\n",
       "      <td>14.0</td>\n",
       "      <td>1.3</td>\n",
       "      <td>10.9</td>\n",
       "    </tr>\n",
       "  </tbody>\n",
       "</table>\n",
       "</div>"
      ],
      "text/plain": [
       "  batsman/bowler  bowl_innings  runs_conceeded  total_balls  wickets_taken  bowl_dot%  bowl_SR  Eco   Avg\n",
       "0  A Mishra       4             109             84           6              29.76      14.0     1.3  10.9"
      ]
     },
     "execution_count": 36,
     "metadata": {},
     "output_type": "execute_result"
    }
   ],
   "source": [
    "ar_bowl_df = BowlingStats(ddf)\n",
    "\n",
    "# renaming the name columns\n",
    "ar_bowl_df = ar_bowl_df.rename(columns={'bowler':'batsman/bowler','innings':'bowl_innings','runs':'runs_conceeded','dismissals':'wickets_taken','SR':'bowl_SR','dot%':'bowl_dot%','balls':'total_balls'})\n",
    "ar_bowl_df = ar_bowl_df.drop(['dots','ones','twos','threes','fours','sixes'],axis=1)\n",
    "ar_bowl_df.head(1)"
   ]
  },
  {
   "cell_type": "code",
   "execution_count": 37,
   "metadata": {},
   "outputs": [
    {
     "data": {
      "text/html": [
       "<div>\n",
       "<style scoped>\n",
       "    .dataframe tbody tr th:only-of-type {\n",
       "        vertical-align: middle;\n",
       "    }\n",
       "\n",
       "    .dataframe tbody tr th {\n",
       "        vertical-align: top;\n",
       "    }\n",
       "\n",
       "    .dataframe thead th {\n",
       "        text-align: right;\n",
       "    }\n",
       "</style>\n",
       "<table border=\"1\" class=\"dataframe\">\n",
       "  <thead>\n",
       "    <tr style=\"text-align: right;\">\n",
       "      <th></th>\n",
       "      <th>batsman/bowler</th>\n",
       "      <th>bat_innings</th>\n",
       "      <th>runs_scored</th>\n",
       "      <th>balls_faced</th>\n",
       "      <th>got_dismissed</th>\n",
       "      <th>bat_SR</th>\n",
       "      <th>bat_dot%</th>\n",
       "      <th>RPI</th>\n",
       "      <th>BPD</th>\n",
       "      <th>BPB</th>\n",
       "      <th>bowl_innings</th>\n",
       "      <th>runs_conceeded</th>\n",
       "      <th>total_balls</th>\n",
       "      <th>wickets_taken</th>\n",
       "      <th>bowl_dot%</th>\n",
       "      <th>bowl_SR</th>\n",
       "      <th>Eco</th>\n",
       "      <th>Avg</th>\n",
       "    </tr>\n",
       "  </thead>\n",
       "  <tbody>\n",
       "    <tr>\n",
       "      <th>0</th>\n",
       "      <td>AD Russell</td>\n",
       "      <td>7</td>\n",
       "      <td>163</td>\n",
       "      <td>112</td>\n",
       "      <td>5</td>\n",
       "      <td>145.54</td>\n",
       "      <td>46.43</td>\n",
       "      <td>23.29</td>\n",
       "      <td>22.4</td>\n",
       "      <td>4.48</td>\n",
       "      <td>5</td>\n",
       "      <td>114</td>\n",
       "      <td>66</td>\n",
       "      <td>7</td>\n",
       "      <td>33.33</td>\n",
       "      <td>9.43</td>\n",
       "      <td>1.73</td>\n",
       "      <td>9.5</td>\n",
       "    </tr>\n",
       "  </tbody>\n",
       "</table>\n",
       "</div>"
      ],
      "text/plain": [
       "  batsman/bowler  bat_innings  runs_scored  balls_faced  got_dismissed  bat_SR  bat_dot%    RPI   BPD   BPB  bowl_innings  runs_conceeded  total_balls  wickets_taken  bowl_dot%  bowl_SR   Eco  Avg\n",
       "0  AD Russell     7            163          112          5              145.54  46.43     23.29  22.4  4.48  5             114             66           7              33.33      9.43     1.73  9.5"
      ]
     },
     "execution_count": 37,
     "metadata": {},
     "output_type": "execute_result"
    }
   ],
   "source": [
    "ar_comb_df = pd.merge(ar_bat_df,ar_bowl_df, on='batsman/bowler')\n",
    "ar_comb_df.head(1)"
   ]
  },
  {
   "cell_type": "code",
   "execution_count": 38,
   "metadata": {},
   "outputs": [],
   "source": [
    "# MM Ali, SM Curran, RA Jadeja"
   ]
  },
  {
   "cell_type": "code",
   "execution_count": 39,
   "metadata": {},
   "outputs": [],
   "source": [
    "mali_ar = ar_comb_df[ar_comb_df['batsman/bowler'] == 'MM Ali']\n",
    "scurran_ar = ar_comb_df[ar_comb_df['batsman/bowler'] == 'SM Curran']\n",
    "jaddu_ar = ar_comb_df[ar_comb_df['batsman/bowler'] == 'RA Jadeja']"
   ]
  },
  {
   "cell_type": "code",
   "execution_count": 40,
   "metadata": {},
   "outputs": [
    {
     "data": {
      "text/html": [
       "<div>\n",
       "<style scoped>\n",
       "    .dataframe tbody tr th:only-of-type {\n",
       "        vertical-align: middle;\n",
       "    }\n",
       "\n",
       "    .dataframe tbody tr th {\n",
       "        vertical-align: top;\n",
       "    }\n",
       "\n",
       "    .dataframe thead th {\n",
       "        text-align: right;\n",
       "    }\n",
       "</style>\n",
       "<table border=\"1\" class=\"dataframe\">\n",
       "  <thead>\n",
       "    <tr style=\"text-align: right;\">\n",
       "      <th></th>\n",
       "      <th>batsman/bowler</th>\n",
       "      <th>bat_innings</th>\n",
       "      <th>runs_scored</th>\n",
       "      <th>balls_faced</th>\n",
       "      <th>got_dismissed</th>\n",
       "      <th>bat_SR</th>\n",
       "      <th>bat_dot%</th>\n",
       "      <th>RPI</th>\n",
       "      <th>BPD</th>\n",
       "      <th>BPB</th>\n",
       "      <th>bowl_innings</th>\n",
       "      <th>runs_conceeded</th>\n",
       "      <th>total_balls</th>\n",
       "      <th>wickets_taken</th>\n",
       "      <th>bowl_dot%</th>\n",
       "      <th>bowl_SR</th>\n",
       "      <th>Eco</th>\n",
       "      <th>Avg</th>\n",
       "    </tr>\n",
       "  </thead>\n",
       "  <tbody>\n",
       "    <tr>\n",
       "      <th>37</th>\n",
       "      <td>MM Ali</td>\n",
       "      <td>6</td>\n",
       "      <td>206</td>\n",
       "      <td>136</td>\n",
       "      <td>6</td>\n",
       "      <td>151.47</td>\n",
       "      <td>46.32</td>\n",
       "      <td>34.33</td>\n",
       "      <td>22.67</td>\n",
       "      <td>4.00</td>\n",
       "      <td>5</td>\n",
       "      <td>76</td>\n",
       "      <td>73</td>\n",
       "      <td>5</td>\n",
       "      <td>34.25</td>\n",
       "      <td>14.60</td>\n",
       "      <td>1.04</td>\n",
       "      <td>8.44</td>\n",
       "    </tr>\n",
       "    <tr>\n",
       "      <th>57</th>\n",
       "      <td>SM Curran</td>\n",
       "      <td>3</td>\n",
       "      <td>52</td>\n",
       "      <td>26</td>\n",
       "      <td>2</td>\n",
       "      <td>200.00</td>\n",
       "      <td>23.08</td>\n",
       "      <td>17.33</td>\n",
       "      <td>13.00</td>\n",
       "      <td>3.25</td>\n",
       "      <td>7</td>\n",
       "      <td>221</td>\n",
       "      <td>155</td>\n",
       "      <td>9</td>\n",
       "      <td>40.65</td>\n",
       "      <td>17.22</td>\n",
       "      <td>1.43</td>\n",
       "      <td>9.61</td>\n",
       "    </tr>\n",
       "    <tr>\n",
       "      <th>49</th>\n",
       "      <td>RA Jadeja</td>\n",
       "      <td>6</td>\n",
       "      <td>131</td>\n",
       "      <td>89</td>\n",
       "      <td>2</td>\n",
       "      <td>147.19</td>\n",
       "      <td>30.34</td>\n",
       "      <td>21.83</td>\n",
       "      <td>44.50</td>\n",
       "      <td>5.24</td>\n",
       "      <td>7</td>\n",
       "      <td>161</td>\n",
       "      <td>148</td>\n",
       "      <td>6</td>\n",
       "      <td>39.19</td>\n",
       "      <td>24.67</td>\n",
       "      <td>1.09</td>\n",
       "      <td>11.50</td>\n",
       "    </tr>\n",
       "  </tbody>\n",
       "</table>\n",
       "</div>"
      ],
      "text/plain": [
       "   batsman/bowler  bat_innings  runs_scored  balls_faced  got_dismissed  bat_SR  bat_dot%    RPI    BPD   BPB  bowl_innings  runs_conceeded  total_balls  wickets_taken  bowl_dot%  bowl_SR   Eco    Avg\n",
       "37  MM Ali         6            206          136          6              151.47  46.32     34.33  22.67  4.00  5             76              73           5              34.25      14.60    1.04  8.44 \n",
       "57  SM Curran      3            52           26           2              200.00  23.08     17.33  13.00  3.25  7             221             155          9              40.65      17.22    1.43  9.61 \n",
       "49  RA Jadeja      6            131          89           2              147.19  30.34     21.83  44.50  5.24  7             161             148          6              39.19      24.67    1.09  11.50"
      ]
     },
     "execution_count": 40,
     "metadata": {},
     "output_type": "execute_result"
    }
   ],
   "source": [
    "comb_df = mali_ar.append(scurran_ar)\n",
    "comb_df = comb_df.append(jaddu_ar)\n",
    "comb_df"
   ]
  },
  {
   "cell_type": "code",
   "execution_count": 41,
   "metadata": {},
   "outputs": [
    {
     "data": {
      "image/png": "[encoded data removed]",
      "text/plain": [
       "<Figure size 1080x576 with 4 Axes>"
      ]
     },
     "metadata": {
      "needs_background": "light"
     },
     "output_type": "display_data"
    }
   ],
   "source": [
    "# Plotting the graph to visualise the data\n",
    "\n",
    "plt.figure(figsize=(15,8))\n",
    "\n",
    "# we are assuming runs scored & batting SR to evaluate batting performance \n",
    "\n",
    "plt.subplot(2,2,1)\n",
    "plt.barh(comb_df[\"batsman/bowler\"],comb_df[\"runs_scored\"])\n",
    "plt.title(\"Performance of Moeen Ali, Sam Curran & Jadeja\")\n",
    "plt.xlabel(\"Total Runs Scored\")\n",
    "\n",
    "plt.subplot(2,2,2)\n",
    "plt.barh(comb_df[\"batsman/bowler\"],comb_df[\"bat_SR\"],color = 'c')\n",
    "plt.title(\"Performance of Moeen Ali, Sam Curran & Jadeja\")\n",
    "plt.xlabel(\"Batting Strike Rate\")\n",
    "\n",
    "\n",
    "# we are assuming wickets taken & bowling SR to evaluate batting performance \n",
    "\n",
    "plt.subplot(2,2,3)\n",
    "plt.barh(comb_df[\"batsman/bowler\"],comb_df[\"wickets_taken\"],color = 'y')\n",
    "plt.xlabel(\"Total Wickets taken\")\n",
    "\n",
    "plt.subplot(2,2,4)\n",
    "plt.barh(comb_df[\"batsman/bowler\"],comb_df[\"bowl_SR\"], color = 'darkorange')\n",
    "plt.xlabel(\"Bowling Strike Rate\")\n",
    "\n",
    "\n",
    "plt.show()"
   ]
  },
  {
   "cell_type": "code",
   "execution_count": 42,
   "metadata": {},
   "outputs": [
    {
     "data": {
      "image/png": "[encoded data removed]",
      "text/plain": [
       "<Figure size 1080x576 with 2 Axes>"
      ]
     },
     "metadata": {
      "needs_background": "light"
     },
     "output_type": "display_data"
    }
   ],
   "source": [
    "plt.figure(figsize=(15,8))\n",
    "\n",
    "# Assuming balls per boundary is an additional parameter to evaluate an all rounder in batting \n",
    "\n",
    "plt.subplot(2,2,1)\n",
    "plt.barh(comb_df[\"batsman/bowler\"],comb_df[\"BPB\"])\n",
    "plt.title(\"Performance of Moeen Ali, Sam Curran & Jadeja\")\n",
    "plt.xlabel(\"Balls per boundaries\")\n",
    "\n",
    "# Assuming economy is an additional parameter to evaluate an all rounder in bowling\n",
    "\n",
    "plt.subplot(2,2,2)\n",
    "plt.barh(comb_df[\"batsman/bowler\"],comb_df[\"Eco\"],color = 'c')\n",
    "plt.title(\"Performance of Moeen Ali, Sam Curran & Jadeja\")\n",
    "plt.xlabel(\"Economy of the bowler\")\n",
    "\n",
    "plt.show()"
   ]
  },
  {
   "cell_type": "markdown",
   "metadata": {},
   "source": [
    "### Inference : Analysing the above parameters we can conclude that Sam Curran has better stats as an all rounder than Moeen Ali and Jadeja. However as we know Moeen Ali's middle over contribution and Jadeja's death over contribution plays a vital role in run scoring for CSK."
   ]
  },
  {
   "cell_type": "code",
   "execution_count": 43,
   "metadata": {},
   "outputs": [],
   "source": [
    "comb_df.to_csv('all_rounder_csk.csv')"
   ]
  },
  {
   "cell_type": "markdown",
   "metadata": {},
   "source": [
    "## Toss Analysis\n",
    "- Is toss winner the match winner ?\n"
   ]
  },
  {
   "cell_type": "code",
   "execution_count": 44,
   "metadata": {},
   "outputs": [],
   "source": [
    "mdf = pd.read_csv('IPL Matches Dataset 2021.csv')"
   ]
  },
  {
   "cell_type": "code",
   "execution_count": 45,
   "metadata": {},
   "outputs": [
    {
     "data": {
      "text/html": [
       "<div>\n",
       "<style scoped>\n",
       "    .dataframe tbody tr th:only-of-type {\n",
       "        vertical-align: middle;\n",
       "    }\n",
       "\n",
       "    .dataframe tbody tr th {\n",
       "        vertical-align: top;\n",
       "    }\n",
       "\n",
       "    .dataframe thead th {\n",
       "        text-align: right;\n",
       "    }\n",
       "</style>\n",
       "<table border=\"1\" class=\"dataframe\">\n",
       "  <thead>\n",
       "    <tr style=\"text-align: right;\">\n",
       "      <th></th>\n",
       "      <th>id</th>\n",
       "      <th>season</th>\n",
       "      <th>start_date</th>\n",
       "      <th>venue_x</th>\n",
       "      <th>innings</th>\n",
       "      <th>ball</th>\n",
       "      <th>batting_team</th>\n",
       "      <th>bowling_team</th>\n",
       "      <th>batsman</th>\n",
       "      <th>non_striker</th>\n",
       "      <th>bowler</th>\n",
       "      <th>runs_off_bat</th>\n",
       "      <th>extras</th>\n",
       "      <th>wides</th>\n",
       "      <th>noballs</th>\n",
       "      <th>byes</th>\n",
       "      <th>legbyes</th>\n",
       "      <th>penalty</th>\n",
       "      <th>wicket_type</th>\n",
       "      <th>player_dismissed</th>\n",
       "      <th>other_wicket_type</th>\n",
       "      <th>other_player_dismissed</th>\n",
       "      <th>total_runs</th>\n",
       "      <th>over</th>\n",
       "      <th>balls</th>\n",
       "      <th>isDots</th>\n",
       "      <th>isOnes</th>\n",
       "      <th>isTwos</th>\n",
       "      <th>isThrees</th>\n",
       "      <th>isFours</th>\n",
       "      <th>isSixes</th>\n",
       "      <th>isbowlerwicket</th>\n",
       "      <th>city</th>\n",
       "      <th>date</th>\n",
       "      <th>player_of_match</th>\n",
       "      <th>venue_y</th>\n",
       "      <th>neutral_venue</th>\n",
       "      <th>team1</th>\n",
       "      <th>team2</th>\n",
       "      <th>toss_winner</th>\n",
       "      <th>toss_decision</th>\n",
       "      <th>winner</th>\n",
       "      <th>result</th>\n",
       "      <th>result_margin</th>\n",
       "      <th>eliminator</th>\n",
       "      <th>method</th>\n",
       "      <th>umpire1</th>\n",
       "      <th>umpire2</th>\n",
       "    </tr>\n",
       "  </thead>\n",
       "  <tbody>\n",
       "    <tr>\n",
       "      <th>0</th>\n",
       "      <td>1254058</td>\n",
       "      <td>2021</td>\n",
       "      <td>2021-04-09</td>\n",
       "      <td>MA Chidambaram Stadium, Chepauk, Chennai</td>\n",
       "      <td>1</td>\n",
       "      <td>0.1</td>\n",
       "      <td>Mumbai Indians</td>\n",
       "      <td>Royal Challengers Bangalore</td>\n",
       "      <td>RG Sharma</td>\n",
       "      <td>CA Lynn</td>\n",
       "      <td>Mohammed Siraj</td>\n",
       "      <td>2</td>\n",
       "      <td>0</td>\n",
       "      <td>NaN</td>\n",
       "      <td>NaN</td>\n",
       "      <td>NaN</td>\n",
       "      <td>NaN</td>\n",
       "      <td>NaN</td>\n",
       "      <td>NaN</td>\n",
       "      <td>NaN</td>\n",
       "      <td>NaN</td>\n",
       "      <td>NaN</td>\n",
       "      <td>2</td>\n",
       "      <td>1</td>\n",
       "      <td>1</td>\n",
       "      <td>0</td>\n",
       "      <td>0</td>\n",
       "      <td>1</td>\n",
       "      <td>0</td>\n",
       "      <td>0</td>\n",
       "      <td>0</td>\n",
       "      <td>0</td>\n",
       "      <td>Chennai</td>\n",
       "      <td>2021-04-09</td>\n",
       "      <td>HV Patel</td>\n",
       "      <td>MA Chidambaram Stadium, Chepauk, Chennai</td>\n",
       "      <td>0.0</td>\n",
       "      <td>Mumbai Indians</td>\n",
       "      <td>Royal Challengers Bangalore</td>\n",
       "      <td>Royal Challengers Bangalore</td>\n",
       "      <td>field</td>\n",
       "      <td>Royal Challengers Bangalore</td>\n",
       "      <td>wickets</td>\n",
       "      <td>2.0</td>\n",
       "      <td>N</td>\n",
       "      <td>NaN</td>\n",
       "      <td>KN Ananthapadmanabhan</td>\n",
       "      <td>Nitin Menon</td>\n",
       "    </tr>\n",
       "  </tbody>\n",
       "</table>\n",
       "</div>"
      ],
      "text/plain": [
       "        id season  start_date                                   venue_x  innings  ball    batting_team                 bowling_team    batsman non_striker          bowler  runs_off_bat  extras  wides  noballs  byes  legbyes  penalty wicket_type player_dismissed  other_wicket_type  other_player_dismissed  total_runs  over  balls  isDots  isOnes  isTwos  isThrees  isFours  isSixes  isbowlerwicket     city        date player_of_match                                   venue_y  neutral_venue           team1                        team2                  toss_winner toss_decision                       winner   result  result_margin eliminator  method                umpire1      umpire2\n",
       "0  1254058  2021   2021-04-09  MA Chidambaram Stadium, Chepauk, Chennai  1        0.1   Mumbai Indians  Royal Challengers Bangalore  RG Sharma  CA Lynn     Mohammed Siraj  2             0      NaN    NaN      NaN   NaN      NaN       NaN         NaN             NaN                NaN                      2           1     1      0       0       1       0         0        0        0               Chennai  2021-04-09  HV Patel        MA Chidambaram Stadium, Chepauk, Chennai  0.0            Mumbai Indians  Royal Challengers Bangalore  Royal Challengers Bangalore  field         Royal Challengers Bangalore  wickets  2.0            N         NaN      KN Ananthapadmanabhan  Nitin Menon"
      ]
     },
     "execution_count": 45,
     "metadata": {},
     "output_type": "execute_result"
    }
   ],
   "source": [
    "combined_df = pd.merge(ddf,mdf,on='id',how='left')\n",
    "combined_df.head(1)"
   ]
  },
  {
   "cell_type": "code",
   "execution_count": 46,
   "metadata": {},
   "outputs": [],
   "source": [
    "# Defining functions to get winning toss and winning match\n",
    "\n",
    "def wintoss_winmatch(toss_winner,winner):\n",
    "    if toss_winner == winner:\n",
    "        return 1\n",
    "    else:\n",
    "        return 0\n",
    "\n",
    "# Defining functions to get winning toss and losing match    \n",
    "    \n",
    "def wintoss_lossmatch(toss_winner,winner):\n",
    "    if toss_winner != winner:\n",
    "        return 1 \n",
    "    else:\n",
    "        return 0 "
   ]
  },
  {
   "cell_type": "code",
   "execution_count": 47,
   "metadata": {},
   "outputs": [],
   "source": [
    "combined_df[\"wintoss_winmatch\"] = combined_df.apply(lambda x : wintoss_winmatch(x['toss_winner'], x['winner']),axis=1)\n",
    "combined_df[\"wintoss_lossmatch\"] = combined_df.apply(lambda x : wintoss_lossmatch(x['toss_winner'], x['winner']),axis=1)"
   ]
  },
  {
   "cell_type": "code",
   "execution_count": 48,
   "metadata": {},
   "outputs": [
    {
     "data": {
      "text/html": [
       "<div>\n",
       "<style scoped>\n",
       "    .dataframe tbody tr th:only-of-type {\n",
       "        vertical-align: middle;\n",
       "    }\n",
       "\n",
       "    .dataframe tbody tr th {\n",
       "        vertical-align: top;\n",
       "    }\n",
       "\n",
       "    .dataframe thead th {\n",
       "        text-align: right;\n",
       "    }\n",
       "</style>\n",
       "<table border=\"1\" class=\"dataframe\">\n",
       "  <thead>\n",
       "    <tr style=\"text-align: right;\">\n",
       "      <th></th>\n",
       "      <th>id</th>\n",
       "      <th>season</th>\n",
       "      <th>start_date</th>\n",
       "      <th>venue_x</th>\n",
       "      <th>innings</th>\n",
       "      <th>ball</th>\n",
       "      <th>batting_team</th>\n",
       "      <th>bowling_team</th>\n",
       "      <th>batsman</th>\n",
       "      <th>non_striker</th>\n",
       "      <th>bowler</th>\n",
       "      <th>runs_off_bat</th>\n",
       "      <th>extras</th>\n",
       "      <th>wides</th>\n",
       "      <th>noballs</th>\n",
       "      <th>byes</th>\n",
       "      <th>legbyes</th>\n",
       "      <th>penalty</th>\n",
       "      <th>wicket_type</th>\n",
       "      <th>player_dismissed</th>\n",
       "      <th>other_wicket_type</th>\n",
       "      <th>other_player_dismissed</th>\n",
       "      <th>total_runs</th>\n",
       "      <th>over</th>\n",
       "      <th>balls</th>\n",
       "      <th>isDots</th>\n",
       "      <th>isOnes</th>\n",
       "      <th>isTwos</th>\n",
       "      <th>isThrees</th>\n",
       "      <th>isFours</th>\n",
       "      <th>isSixes</th>\n",
       "      <th>isbowlerwicket</th>\n",
       "      <th>city</th>\n",
       "      <th>date</th>\n",
       "      <th>player_of_match</th>\n",
       "      <th>venue_y</th>\n",
       "      <th>neutral_venue</th>\n",
       "      <th>team1</th>\n",
       "      <th>team2</th>\n",
       "      <th>toss_winner</th>\n",
       "      <th>toss_decision</th>\n",
       "      <th>winner</th>\n",
       "      <th>result</th>\n",
       "      <th>result_margin</th>\n",
       "      <th>eliminator</th>\n",
       "      <th>method</th>\n",
       "      <th>umpire1</th>\n",
       "      <th>umpire2</th>\n",
       "      <th>wintoss_winmatch</th>\n",
       "      <th>wintoss_lossmatch</th>\n",
       "    </tr>\n",
       "  </thead>\n",
       "  <tbody>\n",
       "    <tr>\n",
       "      <th>0</th>\n",
       "      <td>1254058</td>\n",
       "      <td>2021</td>\n",
       "      <td>2021-04-09</td>\n",
       "      <td>MA Chidambaram Stadium, Chepauk, Chennai</td>\n",
       "      <td>1</td>\n",
       "      <td>0.1</td>\n",
       "      <td>Mumbai Indians</td>\n",
       "      <td>Royal Challengers Bangalore</td>\n",
       "      <td>RG Sharma</td>\n",
       "      <td>CA Lynn</td>\n",
       "      <td>Mohammed Siraj</td>\n",
       "      <td>2</td>\n",
       "      <td>0</td>\n",
       "      <td>NaN</td>\n",
       "      <td>NaN</td>\n",
       "      <td>NaN</td>\n",
       "      <td>NaN</td>\n",
       "      <td>NaN</td>\n",
       "      <td>NaN</td>\n",
       "      <td>NaN</td>\n",
       "      <td>NaN</td>\n",
       "      <td>NaN</td>\n",
       "      <td>2</td>\n",
       "      <td>1</td>\n",
       "      <td>1</td>\n",
       "      <td>0</td>\n",
       "      <td>0</td>\n",
       "      <td>1</td>\n",
       "      <td>0</td>\n",
       "      <td>0</td>\n",
       "      <td>0</td>\n",
       "      <td>0</td>\n",
       "      <td>Chennai</td>\n",
       "      <td>2021-04-09</td>\n",
       "      <td>HV Patel</td>\n",
       "      <td>MA Chidambaram Stadium, Chepauk, Chennai</td>\n",
       "      <td>0.0</td>\n",
       "      <td>Mumbai Indians</td>\n",
       "      <td>Royal Challengers Bangalore</td>\n",
       "      <td>Royal Challengers Bangalore</td>\n",
       "      <td>field</td>\n",
       "      <td>Royal Challengers Bangalore</td>\n",
       "      <td>wickets</td>\n",
       "      <td>2.0</td>\n",
       "      <td>N</td>\n",
       "      <td>NaN</td>\n",
       "      <td>KN Ananthapadmanabhan</td>\n",
       "      <td>Nitin Menon</td>\n",
       "      <td>1</td>\n",
       "      <td>0</td>\n",
       "    </tr>\n",
       "  </tbody>\n",
       "</table>\n",
       "</div>"
      ],
      "text/plain": [
       "        id season  start_date                                   venue_x  innings  ball    batting_team                 bowling_team    batsman non_striker          bowler  runs_off_bat  extras  wides  noballs  byes  legbyes  penalty wicket_type player_dismissed  other_wicket_type  other_player_dismissed  total_runs  over  balls  isDots  isOnes  isTwos  isThrees  isFours  isSixes  isbowlerwicket     city        date player_of_match                                   venue_y  neutral_venue           team1                        team2                  toss_winner toss_decision                       winner   result  result_margin eliminator  method                umpire1      umpire2  wintoss_winmatch  wintoss_lossmatch\n",
       "0  1254058  2021   2021-04-09  MA Chidambaram Stadium, Chepauk, Chennai  1        0.1   Mumbai Indians  Royal Challengers Bangalore  RG Sharma  CA Lynn     Mohammed Siraj  2             0      NaN    NaN      NaN   NaN      NaN       NaN         NaN             NaN                NaN                      2           1     1      0       0       1       0         0        0        0               Chennai  2021-04-09  HV Patel        MA Chidambaram Stadium, Chepauk, Chennai  0.0            Mumbai Indians  Royal Challengers Bangalore  Royal Challengers Bangalore  field         Royal Challengers Bangalore  wickets  2.0            N         NaN      KN Ananthapadmanabhan  Nitin Menon  1                 0                "
      ]
     },
     "execution_count": 48,
     "metadata": {},
     "output_type": "execute_result"
    }
   ],
   "source": [
    "combined_df.head(1)"
   ]
  },
  {
   "cell_type": "code",
   "execution_count": 49,
   "metadata": {},
   "outputs": [],
   "source": [
    "wintoss_winmatch_df = pd.DataFrame(round(combined_df.groupby([\"toss_winner\"])[\"wintoss_winmatch\"].sum()/combined_df.groupby([\"toss_winner\"])[\"wintoss_winmatch\"].count()*100,2)).reset_index().rename(columns={\"wintoss_winmatch\":\"match_win%\"})\n",
    "wintoss_lossmatch_df = pd.DataFrame(round(combined_df.groupby([\"toss_winner\"])[\"wintoss_lossmatch\"].sum()/combined_df.groupby([\"toss_winner\"])[\"wintoss_lossmatch\"].count()*100,2)).reset_index().rename(columns={\"wintoss_lossmatch\":\"match_win%\"})"
   ]
  },
  {
   "cell_type": "code",
   "execution_count": 50,
   "metadata": {},
   "outputs": [
    {
     "data": {
      "image/png": "[encoded data removed]",
      "text/plain": [
       "<Figure size 2160x1440 with 2 Axes>"
      ]
     },
     "metadata": {
      "needs_background": "light"
     },
     "output_type": "display_data"
    }
   ],
   "source": [
    "# Plotting the comparision of Toss results\n",
    "\n",
    "plt.figure(figsize=(30,20))\n",
    "\n",
    "plt.subplot(2,2,1)\n",
    "plt.bar(wintoss_winmatch_df['toss_winner'],wintoss_winmatch_df['match_win%'],color = 'darkorange')\n",
    "plt.title('Percentage of toss winners, winning the match',fontsize=20)\n",
    "plt.ylabel('Match win percentage',fontsize=18)\n",
    "plt.xticks(rotation=90,fontsize=18)\n",
    "plt.yticks(fontsize=18)\n",
    "\n",
    "plt.subplot(2,2,2)\n",
    "plt.bar(wintoss_lossmatch_df['toss_winner'],wintoss_lossmatch_df['match_win%'],color = 'darkorange')\n",
    "plt.title('Percentage of toss winners, losing the match',fontsize=20)\n",
    "plt.ylabel('Match win percentage',fontsize=18)\n",
    "plt.xticks(rotation=90,fontsize=18)\n",
    "plt.yticks(fontsize=18)\n",
    "\n",
    "plt.show()"
   ]
  },
  {
   "cell_type": "markdown",
   "metadata": {},
   "source": [
    "### Inference :\n",
    "#### Hypothesis 1 : Winning the toss and Winning the match\n",
    "- We can infer that CSK,DC and RCB won all the match where they won the toss.\n",
    "\n",
    "#### Hypothesis 2 : Winning the toss and Losing the match\n",
    "- SRH is the only team with most number of losses even when they won the toss and KKR is next to them."
   ]
  },
  {
   "cell_type": "code",
   "execution_count": 51,
   "metadata": {},
   "outputs": [],
   "source": [
    "# Merge two dataframe into one\n",
    "\n",
    "wintoss_winmatch_df = wintoss_winmatch_df.rename(columns={'match_win%':'wintoss_winmatch%'})\n",
    "wintoss_lossmatch_df = wintoss_lossmatch_df.rename(columns={'match_win%':'wintoss_lossmatch%'})\n",
    "toss_comb_df = pd.merge(wintoss_winmatch_df,wintoss_lossmatch_df,on='toss_winner')"
   ]
  },
  {
   "cell_type": "code",
   "execution_count": 52,
   "metadata": {},
   "outputs": [
    {
     "data": {
      "text/html": [
       "<div>\n",
       "<style scoped>\n",
       "    .dataframe tbody tr th:only-of-type {\n",
       "        vertical-align: middle;\n",
       "    }\n",
       "\n",
       "    .dataframe tbody tr th {\n",
       "        vertical-align: top;\n",
       "    }\n",
       "\n",
       "    .dataframe thead th {\n",
       "        text-align: right;\n",
       "    }\n",
       "</style>\n",
       "<table border=\"1\" class=\"dataframe\">\n",
       "  <thead>\n",
       "    <tr style=\"text-align: right;\">\n",
       "      <th></th>\n",
       "      <th>toss_winner</th>\n",
       "      <th>wintoss_winmatch%</th>\n",
       "      <th>wintoss_lossmatch%</th>\n",
       "    </tr>\n",
       "  </thead>\n",
       "  <tbody>\n",
       "    <tr>\n",
       "      <th>0</th>\n",
       "      <td>Chennai Super Kings</td>\n",
       "      <td>100.00</td>\n",
       "      <td>0.00</td>\n",
       "    </tr>\n",
       "    <tr>\n",
       "      <th>1</th>\n",
       "      <td>Delhi Capitals</td>\n",
       "      <td>100.00</td>\n",
       "      <td>0.00</td>\n",
       "    </tr>\n",
       "    <tr>\n",
       "      <th>2</th>\n",
       "      <td>Kolkata Knight Riders</td>\n",
       "      <td>31.16</td>\n",
       "      <td>68.84</td>\n",
       "    </tr>\n",
       "    <tr>\n",
       "      <th>3</th>\n",
       "      <td>Mumbai Indians</td>\n",
       "      <td>50.41</td>\n",
       "      <td>49.59</td>\n",
       "    </tr>\n",
       "    <tr>\n",
       "      <th>4</th>\n",
       "      <td>Punjab Kings</td>\n",
       "      <td>49.57</td>\n",
       "      <td>50.43</td>\n",
       "    </tr>\n",
       "    <tr>\n",
       "      <th>5</th>\n",
       "      <td>Rajasthan Royals</td>\n",
       "      <td>48.90</td>\n",
       "      <td>51.10</td>\n",
       "    </tr>\n",
       "    <tr>\n",
       "      <th>6</th>\n",
       "      <td>Royal Challengers Bangalore</td>\n",
       "      <td>100.00</td>\n",
       "      <td>0.00</td>\n",
       "    </tr>\n",
       "    <tr>\n",
       "      <th>7</th>\n",
       "      <td>Sunrisers Hyderabad</td>\n",
       "      <td>0.00</td>\n",
       "      <td>100.00</td>\n",
       "    </tr>\n",
       "  </tbody>\n",
       "</table>\n",
       "</div>"
      ],
      "text/plain": [
       "                   toss_winner  wintoss_winmatch%  wintoss_lossmatch%\n",
       "0  Chennai Super Kings          100.00             0.00              \n",
       "1  Delhi Capitals               100.00             0.00              \n",
       "2  Kolkata Knight Riders        31.16              68.84             \n",
       "3  Mumbai Indians               50.41              49.59             \n",
       "4  Punjab Kings                 49.57              50.43             \n",
       "5  Rajasthan Royals             48.90              51.10             \n",
       "6  Royal Challengers Bangalore  100.00             0.00              \n",
       "7  Sunrisers Hyderabad          0.00               100.00            "
      ]
     },
     "execution_count": 52,
     "metadata": {},
     "output_type": "execute_result"
    }
   ],
   "source": [
    "toss_comb_df"
   ]
  },
  {
   "cell_type": "code",
   "execution_count": 53,
   "metadata": {},
   "outputs": [],
   "source": [
    "toss_comb_df.to_csv('toss_analysis.csv')"
   ]
  },
  {
   "cell_type": "markdown",
   "metadata": {},
   "source": [
    "## Venue Analysis \n",
    "- Analysis between MA Chidambaram Stadium vs Wankadhe Stadium"
   ]
  },
  {
   "cell_type": "code",
   "execution_count": 54,
   "metadata": {},
   "outputs": [],
   "source": [
    "#import the datasets\n",
    "\n",
    "matches = pd.read_csv('all_matches.csv')"
   ]
  },
  {
   "cell_type": "code",
   "execution_count": 55,
   "metadata": {},
   "outputs": [
    {
     "data": {
      "text/html": [
       "<div>\n",
       "<style scoped>\n",
       "    .dataframe tbody tr th:only-of-type {\n",
       "        vertical-align: middle;\n",
       "    }\n",
       "\n",
       "    .dataframe tbody tr th {\n",
       "        vertical-align: top;\n",
       "    }\n",
       "\n",
       "    .dataframe thead th {\n",
       "        text-align: right;\n",
       "    }\n",
       "</style>\n",
       "<table border=\"1\" class=\"dataframe\">\n",
       "  <thead>\n",
       "    <tr style=\"text-align: right;\">\n",
       "      <th></th>\n",
       "      <th>match_id</th>\n",
       "      <th>season</th>\n",
       "      <th>start_date</th>\n",
       "      <th>venue</th>\n",
       "      <th>innings</th>\n",
       "      <th>ball</th>\n",
       "      <th>batting_team</th>\n",
       "      <th>bowling_team</th>\n",
       "      <th>striker</th>\n",
       "      <th>non_striker</th>\n",
       "      <th>bowler</th>\n",
       "      <th>runs_off_bat</th>\n",
       "      <th>extras</th>\n",
       "      <th>wides</th>\n",
       "      <th>noballs</th>\n",
       "      <th>byes</th>\n",
       "      <th>legbyes</th>\n",
       "      <th>penalty</th>\n",
       "      <th>wicket_type</th>\n",
       "      <th>player_dismissed</th>\n",
       "      <th>other_wicket_type</th>\n",
       "      <th>other_player_dismissed</th>\n",
       "    </tr>\n",
       "  </thead>\n",
       "  <tbody>\n",
       "    <tr>\n",
       "      <th>0</th>\n",
       "      <td>335982</td>\n",
       "      <td>2007/08</td>\n",
       "      <td>2008-04-18</td>\n",
       "      <td>M Chinnaswamy Stadium</td>\n",
       "      <td>1</td>\n",
       "      <td>0.1</td>\n",
       "      <td>Kolkata Knight Riders</td>\n",
       "      <td>Royal Challengers Bangalore</td>\n",
       "      <td>SC Ganguly</td>\n",
       "      <td>BB McCullum</td>\n",
       "      <td>P Kumar</td>\n",
       "      <td>0</td>\n",
       "      <td>1</td>\n",
       "      <td>NaN</td>\n",
       "      <td>NaN</td>\n",
       "      <td>NaN</td>\n",
       "      <td>1.0</td>\n",
       "      <td>NaN</td>\n",
       "      <td>NaN</td>\n",
       "      <td>NaN</td>\n",
       "      <td>NaN</td>\n",
       "      <td>NaN</td>\n",
       "    </tr>\n",
       "  </tbody>\n",
       "</table>\n",
       "</div>"
      ],
      "text/plain": [
       "   match_id   season  start_date                  venue  innings  ball           batting_team                 bowling_team     striker  non_striker   bowler  runs_off_bat  extras  wides  noballs  byes  legbyes  penalty wicket_type player_dismissed  other_wicket_type  other_player_dismissed\n",
       "0  335982    2007/08  2008-04-18  M Chinnaswamy Stadium  1        0.1   Kolkata Knight Riders  Royal Challengers Bangalore  SC Ganguly  BB McCullum  P Kumar  0             1      NaN    NaN      NaN    1.0     NaN       NaN         NaN             NaN                NaN                    "
      ]
     },
     "execution_count": 55,
     "metadata": {},
     "output_type": "execute_result"
    }
   ],
   "source": [
    "matches.head(1)"
   ]
  },
  {
   "cell_type": "code",
   "execution_count": 56,
   "metadata": {},
   "outputs": [],
   "source": [
    "# Filtering the matches by season\n",
    "\n",
    "cs_df = matches[(matches['season']==2021) | (matches['season']=='2021')]\n",
    "ws_df = matches[(matches['season']==2021) | (matches['season']=='2021')]"
   ]
  },
  {
   "cell_type": "code",
   "execution_count": 57,
   "metadata": {},
   "outputs": [],
   "source": [
    "# 'MA Chidambaram Stadium, Chepauk, Chennai' , 'Wankhede Stadium, Mumbai'"
   ]
  },
  {
   "cell_type": "code",
   "execution_count": 58,
   "metadata": {},
   "outputs": [],
   "source": [
    "# Filtering the matches by venue\n",
    "\n",
    "cs_df = cs_df[cs_df['venue'] == 'MA Chidambaram Stadium, Chepauk, Chennai']\n",
    "ws_df = ws_df[ws_df['venue'] == 'Wankhede Stadium, Mumbai']"
   ]
  },
  {
   "cell_type": "code",
   "execution_count": 59,
   "metadata": {},
   "outputs": [],
   "source": [
    "# Since we dont have the over details in the dataset, we need to seperate the overs\n",
    "\n",
    "def over_seperator(df):\n",
    "    df['over'] = -1\n",
    "    df['balls'] = 1\n",
    "    for i in range(len(df)):\n",
    "        if(df.iloc[i]['ball'] < 1 ):\n",
    "            df['over'].iloc[i] = 1\n",
    "        elif(df.iloc[i]['ball'] < 2 ):\n",
    "            df['over'].iloc[i] = 2\n",
    "        elif(df.iloc[i]['ball'] < 3 ):\n",
    "            df['over'].iloc[i] = 3\n",
    "        elif(df.iloc[i]['ball'] < 4 ):\n",
    "            df['over'].iloc[i] = 4\n",
    "        elif(df.iloc[i]['ball'] < 5 ):\n",
    "            df['over'].iloc[i] = 5\n",
    "        elif(df.iloc[i]['ball'] < 6 ):\n",
    "            df['over'].iloc[i] = 6\n",
    "        elif(df.iloc[i]['ball'] < 7 ):\n",
    "            df['over'].iloc[i] = 7\n",
    "        elif(df.iloc[i]['ball'] < 8 ):\n",
    "            df['over'].iloc[i] = 8\n",
    "        elif(df.iloc[i]['ball'] < 9 ):\n",
    "            df['over'].iloc[i] = 9\n",
    "        elif(df.iloc[i]['ball'] < 10 ):\n",
    "            df['over'].iloc[i] = 10\n",
    "        elif(df.iloc[i]['ball'] < 11 ):\n",
    "            df['over'].iloc[i] = 11\n",
    "        elif(df.iloc[i]['ball'] < 12 ):\n",
    "            df['over'].iloc[i] = 12\n",
    "        elif(df.iloc[i]['ball'] < 13 ):\n",
    "            df['over'].iloc[i] = 13\n",
    "        elif(df.iloc[i]['ball'] < 14 ):\n",
    "            df['over'].iloc[i] = 14\n",
    "        elif(df.iloc[i]['ball'] < 15 ):\n",
    "            df['over'].iloc[i] = 15\n",
    "        elif(df.iloc[i]['ball'] < 16 ):\n",
    "            df['over'].iloc[i] = 16\n",
    "        elif(df.iloc[i]['ball'] < 17 ):\n",
    "            df['over'].iloc[i] = 17\n",
    "        elif(df.iloc[i]['ball'] < 18 ):\n",
    "            df['over'].iloc[i] = 18\n",
    "        elif(df.iloc[i]['ball'] < 19 ):\n",
    "            df['over'].iloc[i] = 19\n",
    "        elif(df.iloc[i]['ball'] < 20 ):\n",
    "            df['over'].iloc[i] = 20\n",
    "        \n",
    "    return df"
   ]
  },
  {
   "cell_type": "code",
   "execution_count": 60,
   "metadata": {},
   "outputs": [],
   "source": [
    "# Apply the over seperator function \n",
    "\n",
    "cs_df = over_seperator(cs_df)\n",
    "ws_df = over_seperator(ws_df)"
   ]
  },
  {
   "cell_type": "code",
   "execution_count": 61,
   "metadata": {},
   "outputs": [],
   "source": [
    "# Grouping by over number\n",
    "\n",
    "cs_df = cs_df.groupby(['over']).sum()\n",
    "ws_df = ws_df.groupby(['over']).sum()\n",
    "\n",
    "# Defining th run rate column to the Dataframe\n",
    "\n",
    "cs_df['run_rate'] = (cs_df['runs_off_bat'] + cs_df['extras']) / (cs_df['balls'] - cs_df['wides'] - cs_df['noballs']) * 6 \n",
    "ws_df['run_rate'] = (ws_df['runs_off_bat'] + ws_df['extras']) / (ws_df['balls'] - ws_df['wides'] - ws_df['noballs']) * 6 "
   ]
  },
  {
   "cell_type": "code",
   "execution_count": 62,
   "metadata": {},
   "outputs": [
    {
     "data": {
      "image/png": "[encoded data removed]",
      "text/plain": [
       "<Figure size 1080x576 with 1 Axes>"
      ]
     },
     "metadata": {
      "needs_background": "light"
     },
     "output_type": "display_data"
    }
   ],
   "source": [
    "# Plotting the graphy to visualise the data\n",
    "\n",
    "plt.figure(figsize=(15,8))\n",
    "plt.style.use('bmh')\n",
    "\n",
    "plt.plot(cs_df['run_rate'],color='navy',marker='o',markerfacecolor='r',markersize=10)\n",
    "plt.plot(ws_df['run_rate'],color='orange',marker='o',markerfacecolor='r',markersize=10)\n",
    "\n",
    "plt.xticks(ticks=[1,2,3,4,5,6,7,8,9,10,11,12,13,14,15,16,17,18,19,20])\n",
    "plt.title('Comparision of runs scored in MA Chidambaram Stadium vs Wankhede Stadium - IPL 2021',fontsize=16)\n",
    "plt.xlabel('Over',fontsize=14)\n",
    "plt.ylabel('Run Rate',fontsize=14)\n",
    "plt.legend(['MA Chidambaram Stadium','Wankhede Stadium'],fontsize=13)\n",
    "\n",
    "# Phase of play\n",
    "plt.axvline(x=6,linestyle ='--')\n",
    "plt.axvline(x=15,linestyle ='--')\n",
    "plt.text(3,6,'Powerplay')\n",
    "plt.text(10,6,'Middle Over')\n",
    "plt.text(17,6,'Death Over')\n",
    "\n",
    "plt.show()"
   ]
  },
  {
   "cell_type": "markdown",
   "metadata": {},
   "source": [
    "### Inference: From the above graph we can clearly understand that run rate is higher in Wankhede stadium than in MA Chidambaram stadium.  Clearly Wankhede stadium is favourable for batting and Chepauk stadium record a low scoring games."
   ]
  },
  {
   "cell_type": "code",
   "execution_count": 63,
   "metadata": {},
   "outputs": [],
   "source": [
    "cs_df.to_csv('run_rate_at_chepauk.csv')"
   ]
  },
  {
   "cell_type": "code",
   "execution_count": 64,
   "metadata": {},
   "outputs": [],
   "source": [
    "ws_df.to_csv('run_rate_at_wankhede.csv')"
   ]
  },
  {
   "cell_type": "code",
   "execution_count": 65,
   "metadata": {},
   "outputs": [
    {
     "data": {
      "text/html": [
       "<div>\n",
       "<style scoped>\n",
       "    .dataframe tbody tr th:only-of-type {\n",
       "        vertical-align: middle;\n",
       "    }\n",
       "\n",
       "    .dataframe tbody tr th {\n",
       "        vertical-align: top;\n",
       "    }\n",
       "\n",
       "    .dataframe thead th {\n",
       "        text-align: right;\n",
       "    }\n",
       "</style>\n",
       "<table border=\"1\" class=\"dataframe\">\n",
       "  <thead>\n",
       "    <tr style=\"text-align: right;\">\n",
       "      <th></th>\n",
       "      <th>match_id</th>\n",
       "      <th>innings</th>\n",
       "      <th>ball</th>\n",
       "      <th>runs_off_bat</th>\n",
       "      <th>extras</th>\n",
       "      <th>wides</th>\n",
       "      <th>noballs</th>\n",
       "      <th>byes</th>\n",
       "      <th>legbyes</th>\n",
       "      <th>penalty</th>\n",
       "      <th>other_wicket_type</th>\n",
       "      <th>other_player_dismissed</th>\n",
       "      <th>balls</th>\n",
       "      <th>run_rate</th>\n",
       "    </tr>\n",
       "    <tr>\n",
       "      <th>over</th>\n",
       "      <th></th>\n",
       "      <th></th>\n",
       "      <th></th>\n",
       "      <th></th>\n",
       "      <th></th>\n",
       "      <th></th>\n",
       "      <th></th>\n",
       "      <th></th>\n",
       "      <th></th>\n",
       "      <th></th>\n",
       "      <th></th>\n",
       "      <th></th>\n",
       "      <th></th>\n",
       "      <th></th>\n",
       "    </tr>\n",
       "  </thead>\n",
       "  <tbody>\n",
       "    <tr>\n",
       "      <th>1</th>\n",
       "      <td>169299132</td>\n",
       "      <td>227</td>\n",
       "      <td>48.3</td>\n",
       "      <td>109</td>\n",
       "      <td>15</td>\n",
       "      <td>6.0</td>\n",
       "      <td>1.0</td>\n",
       "      <td>4.0</td>\n",
       "      <td>4.0</td>\n",
       "      <td>0.0</td>\n",
       "      <td>0.0</td>\n",
       "      <td>0.0</td>\n",
       "      <td>135</td>\n",
       "      <td>5.812500</td>\n",
       "    </tr>\n",
       "    <tr>\n",
       "      <th>2</th>\n",
       "      <td>156758356</td>\n",
       "      <td>187</td>\n",
       "      <td>170.5</td>\n",
       "      <td>139</td>\n",
       "      <td>10</td>\n",
       "      <td>4.0</td>\n",
       "      <td>1.0</td>\n",
       "      <td>0.0</td>\n",
       "      <td>5.0</td>\n",
       "      <td>0.0</td>\n",
       "      <td>0.0</td>\n",
       "      <td>0.0</td>\n",
       "      <td>125</td>\n",
       "      <td>7.450000</td>\n",
       "    </tr>\n",
       "    <tr>\n",
       "      <th>3</th>\n",
       "      <td>155504271</td>\n",
       "      <td>185</td>\n",
       "      <td>292.8</td>\n",
       "      <td>141</td>\n",
       "      <td>5</td>\n",
       "      <td>4.0</td>\n",
       "      <td>0.0</td>\n",
       "      <td>0.0</td>\n",
       "      <td>1.0</td>\n",
       "      <td>0.0</td>\n",
       "      <td>0.0</td>\n",
       "      <td>0.0</td>\n",
       "      <td>124</td>\n",
       "      <td>7.300000</td>\n",
       "    </tr>\n",
       "    <tr>\n",
       "      <th>4</th>\n",
       "      <td>155504291</td>\n",
       "      <td>188</td>\n",
       "      <td>416.8</td>\n",
       "      <td>185</td>\n",
       "      <td>5</td>\n",
       "      <td>2.0</td>\n",
       "      <td>2.0</td>\n",
       "      <td>0.0</td>\n",
       "      <td>1.0</td>\n",
       "      <td>0.0</td>\n",
       "      <td>0.0</td>\n",
       "      <td>0.0</td>\n",
       "      <td>124</td>\n",
       "      <td>9.500000</td>\n",
       "    </tr>\n",
       "    <tr>\n",
       "      <th>5</th>\n",
       "      <td>156758339</td>\n",
       "      <td>188</td>\n",
       "      <td>545.5</td>\n",
       "      <td>161</td>\n",
       "      <td>7</td>\n",
       "      <td>7.0</td>\n",
       "      <td>0.0</td>\n",
       "      <td>0.0</td>\n",
       "      <td>0.0</td>\n",
       "      <td>0.0</td>\n",
       "      <td>0.0</td>\n",
       "      <td>0.0</td>\n",
       "      <td>125</td>\n",
       "      <td>8.542373</td>\n",
       "    </tr>\n",
       "  </tbody>\n",
       "</table>\n",
       "</div>"
      ],
      "text/plain": [
       "       match_id  innings   ball  runs_off_bat  extras  wides  noballs  byes  legbyes  penalty  other_wicket_type  other_player_dismissed  balls  run_rate\n",
       "over                                                                                                                                                     \n",
       "1     169299132  227      48.3   109           15      6.0    1.0      4.0   4.0      0.0      0.0                0.0                     135    5.812500\n",
       "2     156758356  187      170.5  139           10      4.0    1.0      0.0   5.0      0.0      0.0                0.0                     125    7.450000\n",
       "3     155504271  185      292.8  141           5       4.0    0.0      0.0   1.0      0.0      0.0                0.0                     124    7.300000\n",
       "4     155504291  188      416.8  185           5       2.0    2.0      0.0   1.0      0.0      0.0                0.0                     124    9.500000\n",
       "5     156758339  188      545.5  161           7       7.0    0.0      0.0   0.0      0.0      0.0                0.0                     125    8.542373"
      ]
     },
     "execution_count": 65,
     "metadata": {},
     "output_type": "execute_result"
    }
   ],
   "source": [
    "cs_df.head()"
   ]
  },
  {
   "cell_type": "code",
   "execution_count": null,
   "metadata": {},
   "outputs": [],
   "source": []
  }
 ],
 "metadata": {
  "kernelspec": {
   "display_name": "Python 3",
   "language": "python",
   "name": "python3"
  },
  "language_info": {
   "codemirror_mode": {
    "name": "ipython",
    "version": 3
   },
   "file_extension": ".py",
   "mimetype": "text/x-python",
   "name": "python",
   "nbconvert_exporter": "python",
   "pygments_lexer": "ipython3",
   "version": "3.8.5"
  }
 },
 "nbformat": 4,
 "nbformat_minor": 4
}
